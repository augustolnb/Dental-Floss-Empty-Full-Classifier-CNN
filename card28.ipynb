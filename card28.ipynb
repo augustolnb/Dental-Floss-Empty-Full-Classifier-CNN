{
  "cells": [
    {
      "cell_type": "markdown",
      "metadata": {
        "id": "XjObzadCtHw-"
      },
      "source": [
        "## Importando DS e bibliotecas"
      ]
    },
    {
      "cell_type": "code",
      "execution_count": 73,
      "metadata": {
        "colab": {
          "base_uri": "https://localhost:8080/"
        },
        "id": "4kWyuRhZFgGp",
        "outputId": "d92227bf-3eaf-482e-d4e1-a7941da9a299"
      },
      "outputs": [
        {
          "output_type": "stream",
          "name": "stdout",
          "text": [
            "--2025-08-08 14:45:54--  https://github.com/augustolnb/LAMIA/raw/refs/heads/main/bootcamp/card28/dataset-dental-floss.zip\n",
            "Resolving github.com (github.com)... 20.205.243.166\n",
            "Connecting to github.com (github.com)|20.205.243.166|:443... connected.\n",
            "HTTP request sent, awaiting response... 302 Found\n",
            "Location: https://raw.githubusercontent.com/augustolnb/LAMIA/refs/heads/main/bootcamp/card28/dataset-dental-floss.zip [following]\n",
            "--2025-08-08 14:45:55--  https://raw.githubusercontent.com/augustolnb/LAMIA/refs/heads/main/bootcamp/card28/dataset-dental-floss.zip\n",
            "Resolving raw.githubusercontent.com (raw.githubusercontent.com)... 185.199.109.133, 185.199.108.133, 185.199.110.133, ...\n",
            "Connecting to raw.githubusercontent.com (raw.githubusercontent.com)|185.199.109.133|:443... connected.\n",
            "HTTP request sent, awaiting response... 200 OK\n",
            "Length: 21210526 (20M) [application/zip]\n",
            "Saving to: ‘dataset-dental-floss.zip.2’\n",
            "\n",
            "dataset-dental-flos 100%[===================>]  20.23M  --.-KB/s    in 0.07s   \n",
            "\n",
            "2025-08-08 14:45:56 (305 MB/s) - ‘dataset-dental-floss.zip.2’ saved [21210526/21210526]\n",
            "\n"
          ]
        }
      ],
      "source": [
        "!wget \"https://github.com/augustolnb/LAMIA/raw/refs/heads/main/bootcamp/card28/dataset-dental-floss.zip\""
      ]
    },
    {
      "cell_type": "code",
      "execution_count": null,
      "metadata": {
        "id": "HSPn2xzMImIb"
      },
      "outputs": [],
      "source": [
        "!mkdir /content/ds"
      ]
    },
    {
      "cell_type": "code",
      "execution_count": null,
      "metadata": {
        "id": "Fro--P5yfBMY"
      },
      "outputs": [],
      "source": [
        "!unzip /content/dataset-dental-floss.zip -d /content/ds"
      ]
    },
    {
      "cell_type": "code",
      "execution_count": 76,
      "metadata": {
        "id": "mGRnPIKQ2gM2"
      },
      "outputs": [],
      "source": [
        "import os\n",
        "import cv2\n",
        "import zipfile\n",
        "import pathlib\n",
        "import numpy as np\n",
        "import pandas as pd\n",
        "import matplotlib.pyplot as plt"
      ]
    },
    {
      "cell_type": "code",
      "execution_count": 77,
      "metadata": {
        "id": "WblqfE68hVUK"
      },
      "outputs": [],
      "source": [
        "import tensorflow as tf\n",
        "from tensorflow import keras\n",
        "from tensorflow.keras import layers"
      ]
    },
    {
      "cell_type": "code",
      "execution_count": 78,
      "metadata": {
        "id": "q2tBEYVXfAeI"
      },
      "outputs": [],
      "source": [
        "# Caminho do dataset\n",
        "\n",
        "dataset_dir = pathlib.Path('/content/ds/')\n",
        "\n",
        "# Parâmetros das imagens\n",
        "image_size = (128, 128)\n",
        "batch_size = 32"
      ]
    },
    {
      "cell_type": "markdown",
      "metadata": {
        "id": "z-nxdgKF7MiN"
      },
      "source": [
        "## Preparação dos dados"
      ]
    },
    {
      "cell_type": "code",
      "execution_count": 79,
      "metadata": {
        "colab": {
          "base_uri": "https://localhost:8080/"
        },
        "id": "QNNBjsOKhXlu",
        "outputId": "b0ceba77-28d1-4ede-84b6-ce5bd7c1c8bf"
      },
      "outputs": [
        {
          "output_type": "stream",
          "name": "stdout",
          "text": [
            "Found 4066 files belonging to 2 classes.\n",
            "Using 3050 files for training.\n",
            "Found 4066 files belonging to 2 classes.\n",
            "Using 1016 files for validation.\n"
          ]
        }
      ],
      "source": [
        "# Dividir dataset\n",
        "\n",
        "# Conjunto de Treino (75%)\n",
        "train_ds = tf.keras.utils.image_dataset_from_directory(\n",
        "    dataset_dir,\n",
        "    labels='inferred',\n",
        "    label_mode='binary',\n",
        "    validation_split=0.25,  # 25% do dataset para validação e teste\n",
        "    subset='training',\n",
        "    seed=123,\n",
        "    image_size=image_size,\n",
        "    batch_size=batch_size,\n",
        "    color_mode='grayscale'\n",
        ")\n",
        "\n",
        "# Conjunto de Validação (15%) e Teste (10%)\n",
        "val_ds = tf.keras.utils.image_dataset_from_directory(\n",
        "    dataset_dir,\n",
        "    labels='inferred',\n",
        "    label_mode='binary',\n",
        "    validation_split=0.25,\n",
        "    subset='validation',\n",
        "    seed=123,\n",
        "    image_size=image_size,\n",
        "    batch_size=batch_size,\n",
        "    color_mode='grayscale'\n",
        ")"
      ]
    },
    {
      "cell_type": "code",
      "execution_count": 80,
      "metadata": {
        "id": "Xl9Y4t_vik9x"
      },
      "outputs": [],
      "source": [
        "# Normalizar as imagens\n",
        "\n",
        "normalizacao = tf.keras.layers.Rescaling(1./255)\n",
        "\n",
        "train_ds = train_ds.map(lambda x, y: (normalizacao(x), y))\n",
        "val_ds = val_ds.map(lambda x, y: (normalizacao(x), y))"
      ]
    },
    {
      "cell_type": "code",
      "execution_count": 81,
      "metadata": {
        "id": "oTBCoq2Y4YHU"
      },
      "outputs": [],
      "source": [
        "# Dividir validação e teste\n",
        "# 'val_ds' tem 25% dos dados.\n",
        "# 60% de 25% = 15% do total\n",
        "# 40% de 25% = 10% do total\n",
        "\n",
        "val_batches = tf.data.experimental.cardinality(val_ds)\n",
        "\n",
        "test_ds = val_ds.take(tf.cast(tf.cast(val_batches, tf.float32) * 0.4, tf.int64))\n",
        "val_ds = val_ds.skip(tf.cast(tf.cast(val_batches, tf.float32) * 0.4, tf.int64))"
      ]
    },
    {
      "cell_type": "code",
      "execution_count": 82,
      "metadata": {
        "colab": {
          "base_uri": "https://localhost:8080/"
        },
        "id": "7olBGEIRjI1d",
        "outputId": "053502fd-47a3-4c43-a4e4-7c4355c2ac93"
      },
      "outputs": [
        {
          "output_type": "stream",
          "name": "stdout",
          "text": [
            "Número de lotes de treinamento: 96\n",
            "Número de lotes de validação: 20\n",
            "Número de lotes de teste: 12\n"
          ]
        }
      ],
      "source": [
        "# Verificando os conjuntos\n",
        "\n",
        "print(f\"Número de lotes de treinamento: {tf.data.experimental.cardinality(train_ds)}\")\n",
        "print(f\"Número de lotes de validação: {tf.data.experimental.cardinality(val_ds)}\")\n",
        "print(f\"Número de lotes de teste: {tf.data.experimental.cardinality(test_ds)}\")"
      ]
    },
    {
      "cell_type": "code",
      "execution_count": 83,
      "metadata": {
        "id": "DNJJgW0qkI-n"
      },
      "outputs": [],
      "source": [
        "# Configuração para desempenho\n",
        "AUTOTUNE = tf.data.AUTOTUNE\n",
        "train_ds = train_ds.cache().prefetch(buffer_size=AUTOTUNE)\n",
        "val_ds = val_ds.cache().prefetch(buffer_size=AUTOTUNE)\n",
        "test_ds = test_ds.cache().prefetch(buffer_size=AUTOTUNE)"
      ]
    },
    {
      "cell_type": "code",
      "execution_count": 84,
      "metadata": {
        "id": "XlkDbWJJmrbM"
      },
      "outputs": [],
      "source": [
        "# data augmentation para o conjunto de treino\n",
        "data_augmentation = keras.Sequential([\n",
        "    layers.RandomFlip(\"horizontal\"),  # espelhamento horizontal\n",
        "    layers.RandomContrast(0.2)       # variação de contraste\n",
        "])\n",
        "\n",
        "train_ds = train_ds.map(lambda x, y: (data_augmentation(x, training=True), y))"
      ]
    },
    {
      "cell_type": "code",
      "execution_count": 85,
      "metadata": {
        "id": "GRPkGh2g0Byx"
      },
      "outputs": [],
      "source": [
        "num_classes = 2"
      ]
    },
    {
      "cell_type": "markdown",
      "metadata": {
        "id": "O2UAf7uRoePP"
      },
      "source": [
        "# Testes"
      ]
    },
    {
      "cell_type": "markdown",
      "metadata": {
        "id": "dpL8GjOLyyBD"
      },
      "source": [
        "## 1. Modelo sem Dropout"
      ]
    },
    {
      "cell_type": "code",
      "execution_count": null,
      "metadata": {
        "id": "ZGpJTwLxnHKP"
      },
      "outputs": [],
      "source": [
        "model = keras.Sequential([\n",
        "    # camada de entrada com o formato das suas imagens (128x128)\n",
        "    layers.Input(shape=(128, 128, 1)),\n",
        "\n",
        "    layers.Conv2D(32, 3, activation='relu'),\n",
        "    layers.MaxPooling2D(),\n",
        "    layers.Conv2D(64, 3, activation='relu'),\n",
        "    layers.MaxPooling2D(),\n",
        "    layers.Conv2D(128, 3, activation='relu'),\n",
        "    layers.MaxPooling2D(),\n",
        "\n",
        "    layers.Flatten(),\n",
        "    layers.Dense(128, activation='relu'),\n",
        "    layers.Dense(num_classes)\n",
        "])"
      ]
    },
    {
      "cell_type": "markdown",
      "metadata": {
        "id": "cB5HKU6My20R"
      },
      "source": [
        "## 2. Modelo com Dropout (3 camadas)"
      ]
    },
    {
      "cell_type": "code",
      "execution_count": null,
      "metadata": {
        "id": "BBrmMvRJyv0R"
      },
      "outputs": [],
      "source": [
        "model = keras.Sequential([\n",
        "    layers.Input(shape=(128, 128, 1)),\n",
        "\n",
        "    layers.Conv2D(32, 3, activation='relu'),\n",
        "    layers.MaxPooling2D(),\n",
        "    layers.Conv2D(64, 3, activation='relu'),\n",
        "    layers.MaxPooling2D(),\n",
        "    layers.Conv2D(128, 3, activation='relu'),\n",
        "    layers.MaxPooling2D(),\n",
        "\n",
        "    layers.Flatten(),\n",
        "    layers.Dense(128, activation='relu'),\n",
        "\n",
        "    # camada dropout\n",
        "    layers.Dropout(0.4),\n",
        "\n",
        "    layers.Dense(num_classes)\n",
        "])"
      ]
    },
    {
      "cell_type": "markdown",
      "metadata": {
        "id": "yuZk5Ja_XNXj"
      },
      "source": [
        "## 2.1 Modelo com Dropout (4 camadas)"
      ]
    },
    {
      "cell_type": "code",
      "execution_count": null,
      "metadata": {
        "id": "VvDcS3DnXYjW"
      },
      "outputs": [],
      "source": [
        "model = keras.Sequential([\n",
        "        layers.Input(shape=(128, 128, 1)),\n",
        "\n",
        "        layers.Conv2D(32, 3, activation='relu'),\n",
        "        layers.MaxPooling2D(),\n",
        "\n",
        "        layers.Conv2D(64, 3, activation='relu'),\n",
        "        layers.MaxPooling2D(),\n",
        "\n",
        "        layers.Conv2D(128, 3, activation='relu'),\n",
        "        layers.MaxPooling2D(),\n",
        "\n",
        "        # --- Quarta Camada Convolucional Adicionada ---\n",
        "        layers.Conv2D(256, 3, activation='relu'),\n",
        "        layers.MaxPooling2D(),\n",
        "        # --------------------------------------------\n",
        "\n",
        "        layers.Flatten(),\n",
        "        layers.Dense(128, activation='relu'),\n",
        "        layers.Dropout(0.4),\n",
        "        layers.Dense(2)\n",
        "    ])"
      ]
    },
    {
      "cell_type": "markdown",
      "metadata": {
        "id": "MY78ubOGzFhq"
      },
      "source": [
        "## Treino (testando os modelos)"
      ]
    },
    {
      "cell_type": "code",
      "execution_count": null,
      "metadata": {
        "colab": {
          "base_uri": "https://localhost:8080/",
          "height": 513
        },
        "id": "pY_ymoFRzA0v",
        "outputId": "e75e8a55-3210-4614-e99c-9ed53b445101"
      },
      "outputs": [
        {
          "data": {
            "text/html": [
              "<pre style=\"white-space:pre;overflow-x:auto;line-height:normal;font-family:Menlo,'DejaVu Sans Mono',consolas,'Courier New',monospace\"><span style=\"font-weight: bold\">Model: \"sequential_2\"</span>\n",
              "</pre>\n"
            ],
            "text/plain": [
              "\u001b[1mModel: \"sequential_2\"\u001b[0m\n"
            ]
          },
          "metadata": {},
          "output_type": "display_data"
        },
        {
          "data": {
            "text/html": [
              "<pre style=\"white-space:pre;overflow-x:auto;line-height:normal;font-family:Menlo,'DejaVu Sans Mono',consolas,'Courier New',monospace\">┏━━━━━━━━━━━━━━━━━━━━━━━━━━━━━━━━━┳━━━━━━━━━━━━━━━━━━━━━━━━┳━━━━━━━━━━━━━━━┓\n",
              "┃<span style=\"font-weight: bold\"> Layer (type)                    </span>┃<span style=\"font-weight: bold\"> Output Shape           </span>┃<span style=\"font-weight: bold\">       Param # </span>┃\n",
              "┡━━━━━━━━━━━━━━━━━━━━━━━━━━━━━━━━━╇━━━━━━━━━━━━━━━━━━━━━━━━╇━━━━━━━━━━━━━━━┩\n",
              "│ conv2d (<span style=\"color: #0087ff; text-decoration-color: #0087ff\">Conv2D</span>)                 │ (<span style=\"color: #00d7ff; text-decoration-color: #00d7ff\">None</span>, <span style=\"color: #00af00; text-decoration-color: #00af00\">126</span>, <span style=\"color: #00af00; text-decoration-color: #00af00\">126</span>, <span style=\"color: #00af00; text-decoration-color: #00af00\">32</span>)   │           <span style=\"color: #00af00; text-decoration-color: #00af00\">320</span> │\n",
              "├─────────────────────────────────┼────────────────────────┼───────────────┤\n",
              "│ max_pooling2d (<span style=\"color: #0087ff; text-decoration-color: #0087ff\">MaxPooling2D</span>)    │ (<span style=\"color: #00d7ff; text-decoration-color: #00d7ff\">None</span>, <span style=\"color: #00af00; text-decoration-color: #00af00\">63</span>, <span style=\"color: #00af00; text-decoration-color: #00af00\">63</span>, <span style=\"color: #00af00; text-decoration-color: #00af00\">32</span>)     │             <span style=\"color: #00af00; text-decoration-color: #00af00\">0</span> │\n",
              "├─────────────────────────────────┼────────────────────────┼───────────────┤\n",
              "│ conv2d_1 (<span style=\"color: #0087ff; text-decoration-color: #0087ff\">Conv2D</span>)               │ (<span style=\"color: #00d7ff; text-decoration-color: #00d7ff\">None</span>, <span style=\"color: #00af00; text-decoration-color: #00af00\">61</span>, <span style=\"color: #00af00; text-decoration-color: #00af00\">61</span>, <span style=\"color: #00af00; text-decoration-color: #00af00\">64</span>)     │        <span style=\"color: #00af00; text-decoration-color: #00af00\">18,496</span> │\n",
              "├─────────────────────────────────┼────────────────────────┼───────────────┤\n",
              "│ max_pooling2d_1 (<span style=\"color: #0087ff; text-decoration-color: #0087ff\">MaxPooling2D</span>)  │ (<span style=\"color: #00d7ff; text-decoration-color: #00d7ff\">None</span>, <span style=\"color: #00af00; text-decoration-color: #00af00\">30</span>, <span style=\"color: #00af00; text-decoration-color: #00af00\">30</span>, <span style=\"color: #00af00; text-decoration-color: #00af00\">64</span>)     │             <span style=\"color: #00af00; text-decoration-color: #00af00\">0</span> │\n",
              "├─────────────────────────────────┼────────────────────────┼───────────────┤\n",
              "│ conv2d_2 (<span style=\"color: #0087ff; text-decoration-color: #0087ff\">Conv2D</span>)               │ (<span style=\"color: #00d7ff; text-decoration-color: #00d7ff\">None</span>, <span style=\"color: #00af00; text-decoration-color: #00af00\">28</span>, <span style=\"color: #00af00; text-decoration-color: #00af00\">28</span>, <span style=\"color: #00af00; text-decoration-color: #00af00\">128</span>)    │        <span style=\"color: #00af00; text-decoration-color: #00af00\">73,856</span> │\n",
              "├─────────────────────────────────┼────────────────────────┼───────────────┤\n",
              "│ max_pooling2d_2 (<span style=\"color: #0087ff; text-decoration-color: #0087ff\">MaxPooling2D</span>)  │ (<span style=\"color: #00d7ff; text-decoration-color: #00d7ff\">None</span>, <span style=\"color: #00af00; text-decoration-color: #00af00\">14</span>, <span style=\"color: #00af00; text-decoration-color: #00af00\">14</span>, <span style=\"color: #00af00; text-decoration-color: #00af00\">128</span>)    │             <span style=\"color: #00af00; text-decoration-color: #00af00\">0</span> │\n",
              "├─────────────────────────────────┼────────────────────────┼───────────────┤\n",
              "│ conv2d_3 (<span style=\"color: #0087ff; text-decoration-color: #0087ff\">Conv2D</span>)               │ (<span style=\"color: #00d7ff; text-decoration-color: #00d7ff\">None</span>, <span style=\"color: #00af00; text-decoration-color: #00af00\">12</span>, <span style=\"color: #00af00; text-decoration-color: #00af00\">12</span>, <span style=\"color: #00af00; text-decoration-color: #00af00\">256</span>)    │       <span style=\"color: #00af00; text-decoration-color: #00af00\">295,168</span> │\n",
              "├─────────────────────────────────┼────────────────────────┼───────────────┤\n",
              "│ max_pooling2d_3 (<span style=\"color: #0087ff; text-decoration-color: #0087ff\">MaxPooling2D</span>)  │ (<span style=\"color: #00d7ff; text-decoration-color: #00d7ff\">None</span>, <span style=\"color: #00af00; text-decoration-color: #00af00\">6</span>, <span style=\"color: #00af00; text-decoration-color: #00af00\">6</span>, <span style=\"color: #00af00; text-decoration-color: #00af00\">256</span>)      │             <span style=\"color: #00af00; text-decoration-color: #00af00\">0</span> │\n",
              "├─────────────────────────────────┼────────────────────────┼───────────────┤\n",
              "│ flatten (<span style=\"color: #0087ff; text-decoration-color: #0087ff\">Flatten</span>)               │ (<span style=\"color: #00d7ff; text-decoration-color: #00d7ff\">None</span>, <span style=\"color: #00af00; text-decoration-color: #00af00\">9216</span>)           │             <span style=\"color: #00af00; text-decoration-color: #00af00\">0</span> │\n",
              "├─────────────────────────────────┼────────────────────────┼───────────────┤\n",
              "│ dense (<span style=\"color: #0087ff; text-decoration-color: #0087ff\">Dense</span>)                   │ (<span style=\"color: #00d7ff; text-decoration-color: #00d7ff\">None</span>, <span style=\"color: #00af00; text-decoration-color: #00af00\">128</span>)            │     <span style=\"color: #00af00; text-decoration-color: #00af00\">1,179,776</span> │\n",
              "├─────────────────────────────────┼────────────────────────┼───────────────┤\n",
              "│ dropout (<span style=\"color: #0087ff; text-decoration-color: #0087ff\">Dropout</span>)               │ (<span style=\"color: #00d7ff; text-decoration-color: #00d7ff\">None</span>, <span style=\"color: #00af00; text-decoration-color: #00af00\">128</span>)            │             <span style=\"color: #00af00; text-decoration-color: #00af00\">0</span> │\n",
              "├─────────────────────────────────┼────────────────────────┼───────────────┤\n",
              "│ dense_1 (<span style=\"color: #0087ff; text-decoration-color: #0087ff\">Dense</span>)                 │ (<span style=\"color: #00d7ff; text-decoration-color: #00d7ff\">None</span>, <span style=\"color: #00af00; text-decoration-color: #00af00\">2</span>)              │           <span style=\"color: #00af00; text-decoration-color: #00af00\">258</span> │\n",
              "└─────────────────────────────────┴────────────────────────┴───────────────┘\n",
              "</pre>\n"
            ],
            "text/plain": [
              "┏━━━━━━━━━━━━━━━━━━━━━━━━━━━━━━━━━┳━━━━━━━━━━━━━━━━━━━━━━━━┳━━━━━━━━━━━━━━━┓\n",
              "┃\u001b[1m \u001b[0m\u001b[1mLayer (type)                   \u001b[0m\u001b[1m \u001b[0m┃\u001b[1m \u001b[0m\u001b[1mOutput Shape          \u001b[0m\u001b[1m \u001b[0m┃\u001b[1m \u001b[0m\u001b[1m      Param #\u001b[0m\u001b[1m \u001b[0m┃\n",
              "┡━━━━━━━━━━━━━━━━━━━━━━━━━━━━━━━━━╇━━━━━━━━━━━━━━━━━━━━━━━━╇━━━━━━━━━━━━━━━┩\n",
              "│ conv2d (\u001b[38;5;33mConv2D\u001b[0m)                 │ (\u001b[38;5;45mNone\u001b[0m, \u001b[38;5;34m126\u001b[0m, \u001b[38;5;34m126\u001b[0m, \u001b[38;5;34m32\u001b[0m)   │           \u001b[38;5;34m320\u001b[0m │\n",
              "├─────────────────────────────────┼────────────────────────┼───────────────┤\n",
              "│ max_pooling2d (\u001b[38;5;33mMaxPooling2D\u001b[0m)    │ (\u001b[38;5;45mNone\u001b[0m, \u001b[38;5;34m63\u001b[0m, \u001b[38;5;34m63\u001b[0m, \u001b[38;5;34m32\u001b[0m)     │             \u001b[38;5;34m0\u001b[0m │\n",
              "├─────────────────────────────────┼────────────────────────┼───────────────┤\n",
              "│ conv2d_1 (\u001b[38;5;33mConv2D\u001b[0m)               │ (\u001b[38;5;45mNone\u001b[0m, \u001b[38;5;34m61\u001b[0m, \u001b[38;5;34m61\u001b[0m, \u001b[38;5;34m64\u001b[0m)     │        \u001b[38;5;34m18,496\u001b[0m │\n",
              "├─────────────────────────────────┼────────────────────────┼───────────────┤\n",
              "│ max_pooling2d_1 (\u001b[38;5;33mMaxPooling2D\u001b[0m)  │ (\u001b[38;5;45mNone\u001b[0m, \u001b[38;5;34m30\u001b[0m, \u001b[38;5;34m30\u001b[0m, \u001b[38;5;34m64\u001b[0m)     │             \u001b[38;5;34m0\u001b[0m │\n",
              "├─────────────────────────────────┼────────────────────────┼───────────────┤\n",
              "│ conv2d_2 (\u001b[38;5;33mConv2D\u001b[0m)               │ (\u001b[38;5;45mNone\u001b[0m, \u001b[38;5;34m28\u001b[0m, \u001b[38;5;34m28\u001b[0m, \u001b[38;5;34m128\u001b[0m)    │        \u001b[38;5;34m73,856\u001b[0m │\n",
              "├─────────────────────────────────┼────────────────────────┼───────────────┤\n",
              "│ max_pooling2d_2 (\u001b[38;5;33mMaxPooling2D\u001b[0m)  │ (\u001b[38;5;45mNone\u001b[0m, \u001b[38;5;34m14\u001b[0m, \u001b[38;5;34m14\u001b[0m, \u001b[38;5;34m128\u001b[0m)    │             \u001b[38;5;34m0\u001b[0m │\n",
              "├─────────────────────────────────┼────────────────────────┼───────────────┤\n",
              "│ conv2d_3 (\u001b[38;5;33mConv2D\u001b[0m)               │ (\u001b[38;5;45mNone\u001b[0m, \u001b[38;5;34m12\u001b[0m, \u001b[38;5;34m12\u001b[0m, \u001b[38;5;34m256\u001b[0m)    │       \u001b[38;5;34m295,168\u001b[0m │\n",
              "├─────────────────────────────────┼────────────────────────┼───────────────┤\n",
              "│ max_pooling2d_3 (\u001b[38;5;33mMaxPooling2D\u001b[0m)  │ (\u001b[38;5;45mNone\u001b[0m, \u001b[38;5;34m6\u001b[0m, \u001b[38;5;34m6\u001b[0m, \u001b[38;5;34m256\u001b[0m)      │             \u001b[38;5;34m0\u001b[0m │\n",
              "├─────────────────────────────────┼────────────────────────┼───────────────┤\n",
              "│ flatten (\u001b[38;5;33mFlatten\u001b[0m)               │ (\u001b[38;5;45mNone\u001b[0m, \u001b[38;5;34m9216\u001b[0m)           │             \u001b[38;5;34m0\u001b[0m │\n",
              "├─────────────────────────────────┼────────────────────────┼───────────────┤\n",
              "│ dense (\u001b[38;5;33mDense\u001b[0m)                   │ (\u001b[38;5;45mNone\u001b[0m, \u001b[38;5;34m128\u001b[0m)            │     \u001b[38;5;34m1,179,776\u001b[0m │\n",
              "├─────────────────────────────────┼────────────────────────┼───────────────┤\n",
              "│ dropout (\u001b[38;5;33mDropout\u001b[0m)               │ (\u001b[38;5;45mNone\u001b[0m, \u001b[38;5;34m128\u001b[0m)            │             \u001b[38;5;34m0\u001b[0m │\n",
              "├─────────────────────────────────┼────────────────────────┼───────────────┤\n",
              "│ dense_1 (\u001b[38;5;33mDense\u001b[0m)                 │ (\u001b[38;5;45mNone\u001b[0m, \u001b[38;5;34m2\u001b[0m)              │           \u001b[38;5;34m258\u001b[0m │\n",
              "└─────────────────────────────────┴────────────────────────┴───────────────┘\n"
            ]
          },
          "metadata": {},
          "output_type": "display_data"
        },
        {
          "data": {
            "text/html": [
              "<pre style=\"white-space:pre;overflow-x:auto;line-height:normal;font-family:Menlo,'DejaVu Sans Mono',consolas,'Courier New',monospace\"><span style=\"font-weight: bold\"> Total params: </span><span style=\"color: #00af00; text-decoration-color: #00af00\">1,567,874</span> (5.98 MB)\n",
              "</pre>\n"
            ],
            "text/plain": [
              "\u001b[1m Total params: \u001b[0m\u001b[38;5;34m1,567,874\u001b[0m (5.98 MB)\n"
            ]
          },
          "metadata": {},
          "output_type": "display_data"
        },
        {
          "data": {
            "text/html": [
              "<pre style=\"white-space:pre;overflow-x:auto;line-height:normal;font-family:Menlo,'DejaVu Sans Mono',consolas,'Courier New',monospace\"><span style=\"font-weight: bold\"> Trainable params: </span><span style=\"color: #00af00; text-decoration-color: #00af00\">1,567,874</span> (5.98 MB)\n",
              "</pre>\n"
            ],
            "text/plain": [
              "\u001b[1m Trainable params: \u001b[0m\u001b[38;5;34m1,567,874\u001b[0m (5.98 MB)\n"
            ]
          },
          "metadata": {},
          "output_type": "display_data"
        },
        {
          "data": {
            "text/html": [
              "<pre style=\"white-space:pre;overflow-x:auto;line-height:normal;font-family:Menlo,'DejaVu Sans Mono',consolas,'Courier New',monospace\"><span style=\"font-weight: bold\"> Non-trainable params: </span><span style=\"color: #00af00; text-decoration-color: #00af00\">0</span> (0.00 B)\n",
              "</pre>\n"
            ],
            "text/plain": [
              "\u001b[1m Non-trainable params: \u001b[0m\u001b[38;5;34m0\u001b[0m (0.00 B)\n"
            ]
          },
          "metadata": {},
          "output_type": "display_data"
        }
      ],
      "source": [
        "model.summary()"
      ]
    },
    {
      "cell_type": "code",
      "execution_count": null,
      "metadata": {
        "id": "4vkqraWbzETO"
      },
      "outputs": [],
      "source": [
        "optimizer = tf.keras.optimizers.Adam(learning_rate=1e-3)\n",
        "model.compile(\n",
        "    optimizer=optimizer,\n",
        "    loss=tf.keras.losses.SparseCategoricalCrossentropy(from_logits=True),\n",
        "    metrics=['accuracy']\n",
        ")"
      ]
    },
    {
      "cell_type": "code",
      "execution_count": null,
      "metadata": {
        "id": "s_kaMC9X1QHQ"
      },
      "outputs": [],
      "source": [
        "epochs = 13"
      ]
    },
    {
      "cell_type": "code",
      "execution_count": null,
      "metadata": {
        "colab": {
          "base_uri": "https://localhost:8080/"
        },
        "id": "tVXqqRXs1ILq",
        "outputId": "c596cbcb-68ec-4fcc-fcc2-87e66233011e"
      },
      "outputs": [
        {
          "name": "stdout",
          "output_type": "stream",
          "text": [
            "Epoch 1/13\n",
            "\u001b[1m96/96\u001b[0m \u001b[32m━━━━━━━━━━━━━━━━━━━━\u001b[0m\u001b[37m\u001b[0m \u001b[1m14s\u001b[0m 78ms/step - accuracy: 0.5256 - loss: 0.6925 - val_accuracy: 0.6361 - val_loss: 0.6261\n",
            "Epoch 2/13\n",
            "\u001b[1m96/96\u001b[0m \u001b[32m━━━━━━━━━━━━━━━━━━━━\u001b[0m\u001b[37m\u001b[0m \u001b[1m2s\u001b[0m 20ms/step - accuracy: 0.6286 - loss: 0.6301 - val_accuracy: 0.7041 - val_loss: 0.5480\n",
            "Epoch 3/13\n",
            "\u001b[1m96/96\u001b[0m \u001b[32m━━━━━━━━━━━━━━━━━━━━\u001b[0m\u001b[37m\u001b[0m \u001b[1m2s\u001b[0m 20ms/step - accuracy: 0.6671 - loss: 0.6054 - val_accuracy: 0.7136 - val_loss: 0.5294\n",
            "Epoch 4/13\n",
            "\u001b[1m96/96\u001b[0m \u001b[32m━━━━━━━━━━━━━━━━━━━━\u001b[0m\u001b[37m\u001b[0m \u001b[1m2s\u001b[0m 21ms/step - accuracy: 0.6914 - loss: 0.5836 - val_accuracy: 0.7373 - val_loss: 0.4976\n",
            "Epoch 5/13\n",
            "\u001b[1m96/96\u001b[0m \u001b[32m━━━━━━━━━━━━━━━━━━━━\u001b[0m\u001b[37m\u001b[0m \u001b[1m2s\u001b[0m 20ms/step - accuracy: 0.7176 - loss: 0.5428 - val_accuracy: 0.7642 - val_loss: 0.4611\n",
            "Epoch 6/13\n",
            "\u001b[1m96/96\u001b[0m \u001b[32m━━━━━━━━━━━━━━━━━━━━\u001b[0m\u001b[37m\u001b[0m \u001b[1m2s\u001b[0m 22ms/step - accuracy: 0.7533 - loss: 0.4962 - val_accuracy: 0.8038 - val_loss: 0.4330\n",
            "Epoch 7/13\n",
            "\u001b[1m96/96\u001b[0m \u001b[32m━━━━━━━━━━━━━━━━━━━━\u001b[0m\u001b[37m\u001b[0m \u001b[1m2s\u001b[0m 21ms/step - accuracy: 0.7827 - loss: 0.4614 - val_accuracy: 0.7991 - val_loss: 0.4210\n",
            "Epoch 8/13\n",
            "\u001b[1m96/96\u001b[0m \u001b[32m━━━━━━━━━━━━━━━━━━━━\u001b[0m\u001b[37m\u001b[0m \u001b[1m2s\u001b[0m 20ms/step - accuracy: 0.7981 - loss: 0.4413 - val_accuracy: 0.8006 - val_loss: 0.4100\n",
            "Epoch 9/13\n",
            "\u001b[1m96/96\u001b[0m \u001b[32m━━━━━━━━━━━━━━━━━━━━\u001b[0m\u001b[37m\u001b[0m \u001b[1m2s\u001b[0m 20ms/step - accuracy: 0.8094 - loss: 0.4141 - val_accuracy: 0.8006 - val_loss: 0.4116\n",
            "Epoch 10/13\n",
            "\u001b[1m96/96\u001b[0m \u001b[32m━━━━━━━━━━━━━━━━━━━━\u001b[0m\u001b[37m\u001b[0m \u001b[1m2s\u001b[0m 20ms/step - accuracy: 0.8249 - loss: 0.3835 - val_accuracy: 0.8354 - val_loss: 0.3515\n",
            "Epoch 11/13\n",
            "\u001b[1m96/96\u001b[0m \u001b[32m━━━━━━━━━━━━━━━━━━━━\u001b[0m\u001b[37m\u001b[0m \u001b[1m2s\u001b[0m 22ms/step - accuracy: 0.8356 - loss: 0.3638 - val_accuracy: 0.8133 - val_loss: 0.3971\n",
            "Epoch 12/13\n",
            "\u001b[1m96/96\u001b[0m \u001b[32m━━━━━━━━━━━━━━━━━━━━\u001b[0m\u001b[37m\u001b[0m \u001b[1m2s\u001b[0m 22ms/step - accuracy: 0.8455 - loss: 0.3443 - val_accuracy: 0.8370 - val_loss: 0.3421\n",
            "Epoch 13/13\n",
            "\u001b[1m96/96\u001b[0m \u001b[32m━━━━━━━━━━━━━━━━━━━━\u001b[0m\u001b[37m\u001b[0m \u001b[1m2s\u001b[0m 20ms/step - accuracy: 0.8614 - loss: 0.3104 - val_accuracy: 0.8339 - val_loss: 0.3436\n",
            "Treinamento concluído!\n"
          ]
        }
      ],
      "source": [
        "history = model.fit(\n",
        "    train_ds,\n",
        "    validation_data=val_ds,\n",
        "    epochs=epochs\n",
        ")\n",
        "\n",
        "print(\"Treinamento concluído!\")"
      ]
    },
    {
      "cell_type": "code",
      "execution_count": null,
      "metadata": {
        "colab": {
          "base_uri": "https://localhost:8080/",
          "height": 671
        },
        "id": "sOblAXQ-4erT",
        "outputId": "01b8cd65-1b1e-4b9b-fc52-a71aed256f13"
      },
      "outputs": [
        {
          "data": {
            "image/png": "[encoded data removed]",
            "text/plain": [
              "<Figure size 1200x600 with 2 Axes>"
            ]
          },
          "metadata": {},
          "output_type": "display_data"
        },
        {
          "name": "stdout",
          "output_type": "stream",
          "text": [
            "\n",
            "--- Resultados Finais ---\n",
            "Acurácia final de Treino: 0.8649\n",
            "Acurácia final de Validação: 0.8339\n",
            "Perda final de Treino: 0.3064\n",
            "Perda final de Validação: 0.3436\n"
          ]
        }
      ],
      "source": [
        "acc = history.history['accuracy']\n",
        "val_acc = history.history['val_accuracy']  # Acurácia do conjunto de validação\n",
        "loss = history.history['loss']\n",
        "val_loss = history.history['val_loss']    # Perda do conjunto de validação\n",
        "\n",
        "epochs_range = range(len(acc))\n",
        "\n",
        "plt.figure(figsize=(12, 6))\n",
        "\n",
        "# --- Gráfico de Acurácia ---\n",
        "plt.subplot(1, 2, 1)\n",
        "plt.plot(epochs_range, acc, label='Acurácia de Treino')\n",
        "plt.plot(epochs_range, val_acc, label='Acurácia de Validação')\n",
        "plt.legend(loc='lower right')\n",
        "plt.title('Acurácia de Treino e Validação')\n",
        "plt.xlabel('Épocas')\n",
        "plt.ylabel('Acurácia')\n",
        "plt.grid(True)\n",
        "\n",
        "# --- Gráfico de Perda (Loss) ---\n",
        "plt.subplot(1, 2, 2)\n",
        "plt.plot(epochs_range, loss, label='Perda de Treino')\n",
        "plt.plot(epochs_range, val_loss, label='Perda de Validação')\n",
        "plt.legend(loc='upper right')\n",
        "plt.title('Perda de Treino e Validação')\n",
        "plt.xlabel('Épocas')\n",
        "plt.ylabel('Perda')\n",
        "plt.grid(True)\n",
        "\n",
        "plt.show()\n",
        "\n",
        "# Exibe os valores finais de acurácia e perda\n",
        "final_acc = acc[-1]\n",
        "final_val_acc = val_acc[-1]\n",
        "final_loss = loss[-1]\n",
        "final_val_loss = val_loss[-1]\n",
        "\n",
        "print(\"\\n--- Resultados Finais ---\")\n",
        "print(f\"Acurácia final de Treino: {final_acc:.4f}\")\n",
        "print(f\"Acurácia final de Validação: {final_val_acc:.4f}\")\n",
        "print(f\"Perda final de Treino: {final_loss:.4f}\")\n",
        "print(f\"Perda final de Validação: {final_val_loss:.4f}\")"
      ]
    },
    {
      "cell_type": "markdown",
      "metadata": {
        "id": "pqe53Q-r6HCE"
      },
      "source": [
        "## Predição"
      ]
    },
    {
      "cell_type": "code",
      "execution_count": null,
      "metadata": {
        "id": "xIF__W6055Dh"
      },
      "outputs": [],
      "source": [
        "\n",
        "def prever_nova_imagem(caminho_imagem, model):\n",
        "\n",
        "    img = cv2.imread(caminho_imagem, cv2.IMREAD_GRAYSCALE)\n",
        "\n",
        "    if img is None:\n",
        "        print(f\"Erro: Não foi possível carregar a imagem em {caminho_imagem}\")\n",
        "        return None, None\n",
        "\n",
        "    # redimensionar para 128x128\n",
        "    img_resized = cv2.resize(img, (128, 128), interpolation=cv2.INTER_AREA)\n",
        "\n",
        "    # normalizar\n",
        "    img_normalized = img_resized.astype(\"float32\") / 255.0\n",
        "\n",
        "    # ajustar as dimensões para o modelo\n",
        "    img_tensor = np.expand_dims(img_normalized, axis=-1)\n",
        "    img_tensor = np.expand_dims(img_tensor, axis=0)\n",
        "\n",
        "    # fazer a predição\n",
        "    predictions = model.predict(img_tensor)\n",
        "\n",
        "    # índice da classe de maior probabilidade\n",
        "    predicted_class_index = np.argmax(predictions, axis=1)\n",
        "\n",
        "    # usando os logits para calcular a probabilidade\n",
        "    probabilities = tf.nn.softmax(predictions).numpy()[0]\n",
        "\n",
        "    class_names = ['empty', 'full']\n",
        "    predicted_class = class_names[predicted_class_index[0]]\n",
        "\n",
        "    return predicted_class, probabilities\n"
      ]
    },
    {
      "cell_type": "code",
      "execution_count": null,
      "metadata": {
        "id": "ovGXJnKXaWM5"
      },
      "outputs": [],
      "source": [
        "caminho_da_nova_imagem = '/content/dental12.png'\n",
        "\n",
        "classe_predita, probabilidades = prever_nova_imagem(caminho_da_nova_imagem, model)\n",
        "\n",
        "if classe_predita:\n",
        "    print(\"\\n--- Resultado da Predição ---\")\n",
        "    print(f\"A imagem é provavelmente: {classe_predita}\")\n",
        "    print(f\"Probabilidade de ser 'empty': {probabilidades[0]:.2f}\")\n",
        "    print(f\"Probabilidade de ser 'full': {probabilidades[1]:.2f}\")"
      ]
    },
    {
      "cell_type": "markdown",
      "metadata": {
        "id": "1AjtSxNtY7PV"
      },
      "source": [
        "## 1ºª Avaliação das Métricas"
      ]
    },
    {
      "cell_type": "code",
      "execution_count": null,
      "metadata": {
        "id": "WMcl-WRYab46"
      },
      "outputs": [],
      "source": [
        "from sklearn.metrics import confusion_matrix\n",
        "import seaborn as sns\n",
        "import matplotlib.pyplot as plt"
      ]
    },
    {
      "cell_type": "code",
      "execution_count": null,
      "metadata": {
        "id": "Rw5Mry2qKfUG"
      },
      "outputs": [],
      "source": [
        "y_true = []\n",
        "y_pred_logits = []\n",
        "\n",
        "# Obtendo rótulos e previsões\n",
        "for images, labels in test_ds:\n",
        "    # rótulos reais\n",
        "    y_true.extend(labels.numpy())\n",
        "\n",
        "    predictions = model.predict(images, verbose=0)\n",
        "    y_pred_logits.extend(predictions)\n",
        "\n",
        "y_pred = np.argmax(y_pred_logits, axis=1)\n",
        "\n",
        "# matriz confusão\n",
        "cm = confusion_matrix(y_true, y_pred)\n",
        "tn, fp, fn, tp = cm.ravel()\n",
        "\n",
        "# acurácia, precisão e recall\n",
        "accuracy = (tp + tn) / (tp + tn + fp + fn)\n",
        "precision = tp / (tp + fp)\n",
        "recall = tp / (tp + fn)"
      ]
    },
    {
      "cell_type": "code",
      "execution_count": null,
      "metadata": {
        "colab": {
          "base_uri": "https://localhost:8080/",
          "height": 755
        },
        "id": "-04TL0hIc2Uf",
        "outputId": "7578aae6-331c-4b2b-9bf3-7fac7851ba3b"
      },
      "outputs": [
        {
          "data": {
            "image/png": "[encoded data removed]",
            "text/plain": [
              "<Figure size 800x600 with 2 Axes>"
            ]
          },
          "metadata": {},
          "output_type": "display_data"
        },
        {
          "name": "stdout",
          "output_type": "stream",
          "text": [
            "\n",
            "--- Resultados Matriz Confusão ---\n",
            "Verdadeiros Positivos (VP - Previsão 'full' correta): 134\n",
            "Verdadeiros Negativos (VN - Previsão 'empty' correta): 173\n",
            "Falsos Positivos (FP - Previsão 'full' incorreta): 27\n",
            "Falsos Negativos (FN - Previsão 'empty' incorreta): 50\n",
            "\n",
            "--- Métricas de Avaliação ---\n",
            "Acurácia: 0.7995\n",
            "Precisão (para a classe 'full'): 0.8323\n",
            "Recall (para a classe 'full'): 0.7283\n"
          ]
        }
      ],
      "source": [
        "class_names = ['empty', 'full']\n",
        "\n",
        "plt.figure(figsize=(8, 6))\n",
        "sns.heatmap(cm,\n",
        "            annot=True,          # Mostra os valores na matriz\n",
        "            fmt='d',             # Formato dos números (inteiro)\n",
        "            cmap='Blues',        # Mapa de cores\n",
        "            xticklabels=class_names,  # Rótulos do eixo X (Previsões)\n",
        "            yticklabels=class_names)  # Rótulos do eixo Y (Valores Reais)\n",
        "\n",
        "plt.xlabel('Previsões do Modelo')\n",
        "plt.ylabel('Valores Reais')\n",
        "plt.title('Matriz Confusão')\n",
        "plt.show()\n",
        "\n",
        "print(\"\\n--- Resultados Matriz Confusão ---\")\n",
        "print(f\"Verdadeiros Positivos (VP - Previsão 'full' correta): {tp}\")\n",
        "print(f\"Verdadeiros Negativos (VN - Previsão 'empty' correta): {tn}\")\n",
        "print(f\"Falsos Positivos (FP - Previsão 'full' incorreta): {fp}\")\n",
        "print(f\"Falsos Negativos (FN - Previsão 'empty' incorreta): {fn}\")\n",
        "\n",
        "print(\"\\n--- Métricas de Avaliação ---\")\n",
        "print(f\"Acurácia: {accuracy:.4f}\")\n",
        "print(f\"Precisão (para a classe 'full'): {precision:.4f}\")\n",
        "print(f\"Recall (para a classe 'full'): {recall:.4f}\")"
      ]
    },
    {
      "cell_type": "code",
      "execution_count": null,
      "metadata": {
        "id": "ePjnF9o9hC5h"
      },
      "outputs": [],
      "source": []
    },
    {
      "cell_type": "code",
      "execution_count": null,
      "metadata": {
        "id": "OwidYSqtB1Td"
      },
      "outputs": [],
      "source": []
    },
    {
      "cell_type": "markdown",
      "metadata": {
        "id": "7On1aXvAhv4b"
      },
      "source": [
        "## Aplicando Grid Search"
      ]
    },
    {
      "cell_type": "code",
      "execution_count": null,
      "metadata": {
        "id": "8ld_KAd1h9pt"
      },
      "outputs": [],
      "source": [
        "learning_rates = [1e-2, 1e-3, 1e-4, 1e-5]\n",
        "dropout_rates = [0.2, 0.25, 0.3, 0.4, 0.5]\n",
        "epochs_num = [8, 10, 12, 14]\n",
        "\n",
        "# Armazena os resultados para análise posterior\n",
        "results = []\n",
        "best_val_accuracy = 0\n",
        "best_hyperparams = {}"
      ]
    },
    {
      "cell_type": "code",
      "execution_count": null,
      "metadata": {
        "id": "jbliYiW4hzsf"
      },
      "outputs": [],
      "source": [
        "def create_model(learning_rate, dropout_rate):\n",
        "    model = keras.Sequential([\n",
        "        layers.Input(shape=(128, 128, 1)),\n",
        "        layers.Conv2D(32, 3, activation='relu'),\n",
        "        layers.MaxPooling2D(),\n",
        "        layers.Conv2D(64, 3, activation='relu'),\n",
        "        layers.MaxPooling2D(),\n",
        "        layers.Conv2D(128, 3, activation='relu'),\n",
        "        layers.MaxPooling2D(),\n",
        "        layers.Flatten(),\n",
        "        layers.Dense(128, activation='relu'),\n",
        "        layers.Dropout(dropout_rate),\n",
        "        layers.Dense(num_classes)\n",
        "    ])\n",
        "\n",
        "    optimizer = tf.keras.optimizers.Adam(learning_rate=learning_rate)\n",
        "    model.compile(\n",
        "        optimizer=optimizer,\n",
        "        loss=tf.keras.losses.SparseCategoricalCrossentropy(from_logits=True),\n",
        "        metrics=['accuracy']\n",
        "    )\n",
        "    return model"
      ]
    },
    {
      "cell_type": "code",
      "execution_count": null,
      "metadata": {
        "colab": {
          "base_uri": "https://localhost:8080/"
        },
        "id": "hhzmZi8oiagi",
        "outputId": "c78d4eae-946d-4084-eaeb-170a77fc5298"
      },
      "outputs": [
        {
          "name": "stdout",
          "output_type": "stream",
          "text": [
            "Iniciando o Grid Search...\n",
            "\n",
            "--- Testando: lr=0.001, dropout_rate=0.2, epochs_num=8 ---\n",
            "Acurácia de validação: 0.8054\n",
            "\n",
            "--- Testando: lr=0.001, dropout_rate=0.2, epochs_num=10 ---\n",
            "Acurácia de validação: 0.8196\n",
            "\n",
            "--- Testando: lr=0.001, dropout_rate=0.2, epochs_num=12 ---\n",
            "Acurácia de validação: 0.8006\n",
            "\n",
            "--- Testando: lr=0.001, dropout_rate=0.2, epochs_num=14 ---\n",
            "Acurácia de validação: 0.7896\n",
            "\n",
            "--- Testando: lr=0.001, dropout_rate=0.3, epochs_num=8 ---\n",
            "Acurácia de validação: 0.8149\n",
            "\n",
            "--- Testando: lr=0.001, dropout_rate=0.3, epochs_num=10 ---\n",
            "Acurácia de validação: 0.8165\n",
            "\n",
            "--- Testando: lr=0.001, dropout_rate=0.3, epochs_num=12 ---\n",
            "Acurácia de validação: 0.8244\n",
            "\n",
            "--- Testando: lr=0.001, dropout_rate=0.3, epochs_num=14 ---\n",
            "Acurácia de validação: 0.7611\n",
            "\n",
            "--- Testando: lr=0.001, dropout_rate=0.4, epochs_num=8 ---\n",
            "Acurácia de validação: 0.7848\n",
            "\n",
            "--- Testando: lr=0.001, dropout_rate=0.4, epochs_num=10 ---\n",
            "Acurácia de validação: 0.8054\n",
            "\n",
            "--- Testando: lr=0.001, dropout_rate=0.4, epochs_num=12 ---\n",
            "Acurácia de validação: 0.8133\n",
            "\n",
            "--- Testando: lr=0.001, dropout_rate=0.4, epochs_num=14 ---\n",
            "Acurácia de validação: 0.8339\n",
            "\n",
            "--- Testando: lr=0.001, dropout_rate=0.5, epochs_num=8 ---\n",
            "Acurácia de validação: 0.7753\n",
            "\n",
            "--- Testando: lr=0.001, dropout_rate=0.5, epochs_num=10 ---\n",
            "Acurácia de validação: 0.8117\n",
            "\n",
            "--- Testando: lr=0.001, dropout_rate=0.5, epochs_num=12 ---\n",
            "Acurácia de validação: 0.8149\n",
            "\n",
            "--- Testando: lr=0.001, dropout_rate=0.5, epochs_num=14 ---\n",
            "Acurácia de validação: 0.7706\n",
            "\n",
            "--- Testando: lr=0.0001, dropout_rate=0.2, epochs_num=8 ---\n",
            "Acurácia de validação: 0.7769\n",
            "\n",
            "--- Testando: lr=0.0001, dropout_rate=0.2, epochs_num=10 ---\n",
            "Acurácia de validação: 0.7896\n",
            "\n",
            "--- Testando: lr=0.0001, dropout_rate=0.2, epochs_num=12 ---\n",
            "Acurácia de validação: 0.8117\n",
            "\n",
            "--- Testando: lr=0.0001, dropout_rate=0.2, epochs_num=14 ---\n",
            "Acurácia de validação: 0.8117\n",
            "\n",
            "--- Testando: lr=0.0001, dropout_rate=0.3, epochs_num=8 ---\n",
            "Acurácia de validação: 0.7547\n",
            "\n",
            "--- Testando: lr=0.0001, dropout_rate=0.3, epochs_num=10 ---\n",
            "Acurácia de validação: 0.7801\n",
            "\n",
            "--- Testando: lr=0.0001, dropout_rate=0.3, epochs_num=12 ---\n",
            "Acurácia de validação: 0.8101\n",
            "\n",
            "--- Testando: lr=0.0001, dropout_rate=0.3, epochs_num=14 ---\n",
            "Acurácia de validação: 0.7927\n",
            "\n",
            "--- Testando: lr=0.0001, dropout_rate=0.4, epochs_num=8 ---\n",
            "Acurácia de validação: 0.7769\n",
            "\n",
            "--- Testando: lr=0.0001, dropout_rate=0.4, epochs_num=10 ---\n",
            "Acurácia de validação: 0.7642\n",
            "\n",
            "--- Testando: lr=0.0001, dropout_rate=0.4, epochs_num=12 ---\n",
            "Acurácia de validação: 0.8022\n",
            "\n",
            "--- Testando: lr=0.0001, dropout_rate=0.4, epochs_num=14 ---\n",
            "Acurácia de validação: 0.8196\n",
            "\n",
            "--- Testando: lr=0.0001, dropout_rate=0.5, epochs_num=8 ---\n",
            "Acurácia de validação: 0.7168\n",
            "\n",
            "--- Testando: lr=0.0001, dropout_rate=0.5, epochs_num=10 ---\n",
            "Acurácia de validação: 0.7864\n",
            "\n",
            "--- Testando: lr=0.0001, dropout_rate=0.5, epochs_num=12 ---\n",
            "Acurácia de validação: 0.8006\n",
            "\n",
            "--- Testando: lr=0.0001, dropout_rate=0.5, epochs_num=14 ---\n",
            "Acurácia de validação: 0.7927\n",
            "\n",
            "--- Grid Search Concluído ---\n"
          ]
        }
      ],
      "source": [
        "print(\"Iniciando o Grid Search...\")\n",
        "for lr in learning_rates:\n",
        "    for dr in dropout_rates:\n",
        "        for epochs in epochs_num:\n",
        "            print(f\"\\n--- Testando: lr={lr}, dropout_rate={dr}, epochs_num={epochs} ---\")\n",
        "\n",
        "            # Construir o modelo com a combinação atual\n",
        "            model = create_model(learning_rate=lr, dropout_rate=dr)\n",
        "\n",
        "            # Treinar o modelo\n",
        "            history = model.fit(\n",
        "                train_ds,\n",
        "                validation_data=val_ds,\n",
        "                epochs=epochs,\n",
        "                verbose=0\n",
        "            )\n",
        "\n",
        "            # desempenho na validação\n",
        "            val_acc = history.history['val_accuracy'][-1]\n",
        "            results.append({'lr': lr, 'dropout_rate': dr, 'epochs': epochs, 'val_accuracy': val_acc})\n",
        "\n",
        "            print(f\"Acurácia de validação: {val_acc:.4f}\")\n",
        "\n",
        "print(\"\\n--- Grid Search Concluído ---\")"
      ]
    },
    {
      "cell_type": "markdown",
      "metadata": {
        "id": "9Zwk0e-ZYTRu"
      },
      "source": [
        "### 1º teste: batch size = 64"
      ]
    },
    {
      "cell_type": "markdown",
      "metadata": {
        "id": "V08KZbzUrlfx"
      },
      "source": [
        "Selecionando as 4 melhores combinações de hiperparêmtros serão feitos as avaliações baseadas nas métricas de precisão e recall\n",
        "\n",
        "1. lr:1e-3   \n",
        "dropout:40%  \n",
        "epochs:12  \n",
        "---\n",
        "2. lr:1e-3  \n",
        "dropout:25%  \n",
        "epochs:12  \n",
        "---\n",
        "3. lr:1e-3  \n",
        "dropout:25%  \n",
        "epochs:10\n",
        "---\n",
        "4. lr:1e-3  \n",
        "dropout:50%  \n",
        "epochs:12"
      ]
    },
    {
      "cell_type": "code",
      "execution_count": null,
      "metadata": {
        "id": "LUnkkJryrzWi"
      },
      "outputs": [],
      "source": [
        "combinacoes_selecionadas = [\n",
        "    {'label': 'Modelo 1', 'lr': 1e-3, 'dr': 0.2},\n",
        "    {'label': 'Modelo 2', 'lr': 1e-3, 'dr': 0.3},\n",
        "    {'label': 'Modelo 3', 'lr': 1e-3, 'dr': 0.4},\n",
        "    {'label': 'Modelo 4', 'lr': 1e-3, 'dr': 0.5}\n",
        "]"
      ]
    },
    {
      "cell_type": "markdown",
      "metadata": {
        "id": "Qb0gwlUaYZhT"
      },
      "source": [
        "### 2º teste: batch size = 32"
      ]
    },
    {
      "cell_type": "markdown",
      "metadata": {
        "id": "O5igYH07Y8pP"
      },
      "source": [
        "Selecionando as 4 melhores combinações de hiperparêmtros serão feitos as avaliações baseadas nas métricas de precisão e recall\n",
        "\n",
        "1. lr:1e-3   \n",
        "dropout:40%  \n",
        "epochs:14  \n",
        "---\n",
        "2. lr:1e-3   \n",
        "dropout:30%  \n",
        "epochs:12  \n",
        "---\n",
        "3. lr:1e-4   \n",
        "dropout:40%  \n",
        "epochs:14  \n",
        "---\n",
        "4. lr:1e-3   \n",
        "dropout:20%  \n",
        "epochs:10  \n",
        "---\n",
        "\n",
        "Apesar das combinações apresentarem acurácia > 80%, nenhuma das combinações do 2º teste de Grid Search (batch_size=32) foi superior ao conjunto  de hiperparâmetros encontrados anteriormente."
      ]
    },
    {
      "cell_type": "code",
      "execution_count": null,
      "metadata": {
        "id": "2trfURa2Y8pR"
      },
      "outputs": [],
      "source": [
        "combinacoes_selecionadas = [\n",
        "    {'label': 'Modelo 1', 'lr': 1e-3, 'dr': 0.4},\n",
        "    {'label': 'Modelo 2', 'lr': 1e-3, 'dr': 0.3},\n",
        "    {'label': 'Modelo 3', 'lr': 1e-4, 'dr': 0.4},\n",
        "    {'label': 'Modelo 4', 'lr': 1e-3, 'dr': 0.2}\n",
        "]"
      ]
    },
    {
      "cell_type": "markdown",
      "metadata": {
        "id": "gTH8ADb-YiLh"
      },
      "source": [
        "### Avaliando os parametros (learning rate, dropout)"
      ]
    },
    {
      "cell_type": "code",
      "execution_count": null,
      "metadata": {
        "id": "bwqxkUI50G73"
      },
      "outputs": [],
      "source": [
        "from sklearn.metrics import confusion_matrix"
      ]
    },
    {
      "cell_type": "code",
      "execution_count": null,
      "metadata": {
        "id": "IB11rJQEtir5"
      },
      "outputs": [],
      "source": [
        "def avalia_modelo(model, test_ds, label, lr, dr):\n",
        "\n",
        "    print(\"\\n-------------------------------------\")\n",
        "    print(f\"\\n {label}:\")\n",
        "    print(f\"\\n lr={lr}, dropout={dr}\")\n",
        "\n",
        "    epochs_num = [10, 11, 12, 13, 14]\n",
        "\n",
        "    for epochs in epochs_num:\n",
        "        print(f\"\\nTestando: epochs={epochs}\")\n",
        "\n",
        "        # treinamento\n",
        "        model.fit(\n",
        "            train_ds,\n",
        "            validation_data=val_ds,\n",
        "            epochs=epochs,\n",
        "            verbose=0\n",
        "        )\n",
        "\n",
        "        y_true = []\n",
        "        y_pred_logits = []\n",
        "        for images, labels in test_ds:\n",
        "            y_true.extend(labels.numpy())\n",
        "            predictions = model.predict(images, verbose=0)\n",
        "            y_pred_logits.extend(predictions)\n",
        "\n",
        "        y_pred = np.argmax(y_pred_logits, axis=1)\n",
        "\n",
        "        cm = confusion_matrix(y_true, y_pred)\n",
        "        tn, fp, fn, tp = cm.ravel()\n",
        "\n",
        "        # métricas\n",
        "        accuracy = (tp + tn) / (tp + tn + fp + fn) if (tp + tn + fp + fn) > 0 else 0\n",
        "        precision = tp / (tp + fp) if (tp + fp) > 0 else 0\n",
        "        recall = tp / (tp + fn) if (tp + fn) > 0 else 0\n",
        "\n",
        "        print(\"\\n--- Resultados \")\n",
        "        print(f\"Acurácia: {accuracy:.4f}\")\n",
        "        print(f\"Precisão: {precision:.4f}\")\n",
        "        print(f\"Recall: {recall:.4f}\")\n",
        "        print(\"\\nMatriz de Confusão:\\n\", cm)\n"
      ]
    },
    {
      "cell_type": "code",
      "execution_count": null,
      "metadata": {
        "colab": {
          "base_uri": "https://localhost:8080/"
        },
        "id": "e6X762ylumQF",
        "outputId": "b8bcd424-f575-4c67-ef2a-f390dba5584b"
      },
      "outputs": [
        {
          "name": "stdout",
          "output_type": "stream",
          "text": [
            "\n",
            "-------------------------------------\n",
            "\n",
            " Modelo 1:\n",
            "\n",
            " lr=0.001, dropout=0.4\n",
            "\n",
            "Testando: epochs=10\n",
            "\n",
            "--- Resultados \n",
            "Acurácia: 0.7865\n",
            "Precisão: 0.7742\n",
            "Recall: 0.7826\n",
            "\n",
            "Matriz de Confusão:\n",
            " [[158  42]\n",
            " [ 40 144]]\n",
            "\n",
            "Testando: epochs=11\n",
            "\n",
            "--- Resultados \n",
            "Acurácia: 0.7604\n",
            "Precisão: 0.9510\n",
            "Recall: 0.5272\n",
            "\n",
            "Matriz de Confusão:\n",
            " [[195   5]\n",
            " [ 87  97]]\n",
            "\n",
            "Testando: epochs=12\n",
            "\n",
            "--- Resultados \n",
            "Acurácia: 0.8411\n",
            "Precisão: 0.8475\n",
            "Recall: 0.8152\n",
            "\n",
            "Matriz de Confusão:\n",
            " [[173  27]\n",
            " [ 34 150]]\n",
            "\n",
            "Testando: epochs=13\n",
            "\n",
            "--- Resultados \n",
            "Acurácia: 0.8255\n",
            "Precisão: 0.8268\n",
            "Recall: 0.8043\n",
            "\n",
            "Matriz de Confusão:\n",
            " [[169  31]\n",
            " [ 36 148]]\n",
            "\n",
            "Testando: epochs=14\n",
            "\n",
            "--- Resultados \n",
            "Acurácia: 0.8151\n",
            "Precisão: 0.8156\n",
            "Recall: 0.7935\n",
            "\n",
            "Matriz de Confusão:\n",
            " [[167  33]\n",
            " [ 38 146]]\n",
            "\n",
            "-------------------------------------\n",
            "\n",
            " Modelo 2:\n",
            "\n",
            " lr=0.001, dropout=0.3\n",
            "\n",
            "Testando: epochs=10\n",
            "\n",
            "--- Resultados \n",
            "Acurácia: 0.7865\n",
            "Precisão: 0.7742\n",
            "Recall: 0.7826\n",
            "\n",
            "Matriz de Confusão:\n",
            " [[158  42]\n",
            " [ 40 144]]\n",
            "\n",
            "Testando: epochs=11\n",
            "\n",
            "--- Resultados \n",
            "Acurácia: 0.7734\n",
            "Precisão: 0.9145\n",
            "Recall: 0.5815\n",
            "\n",
            "Matriz de Confusão:\n",
            " [[190  10]\n",
            " [ 77 107]]\n",
            "\n",
            "Testando: epochs=12\n",
            "\n",
            "--- Resultados \n",
            "Acurácia: 0.8047\n",
            "Precisão: 0.8516\n",
            "Recall: 0.7174\n",
            "\n",
            "Matriz de Confusão:\n",
            " [[177  23]\n",
            " [ 52 132]]\n",
            "\n",
            "Testando: epochs=13\n",
            "\n",
            "--- Resultados \n",
            "Acurácia: 0.8411\n",
            "Precisão: 0.8090\n",
            "Recall: 0.8750\n",
            "\n",
            "Matriz de Confusão:\n",
            " [[162  38]\n",
            " [ 23 161]]\n",
            "\n",
            "Testando: epochs=14\n",
            "\n",
            "--- Resultados \n",
            "Acurácia: 0.8307\n",
            "Precisão: 0.8083\n",
            "Recall: 0.8478\n",
            "\n",
            "Matriz de Confusão:\n",
            " [[163  37]\n",
            " [ 28 156]]\n",
            "\n",
            "-------------------------------------\n",
            "\n",
            " Modelo 3:\n",
            "\n",
            " lr=0.0001, dropout=0.4\n",
            "\n",
            "Testando: epochs=10\n",
            "\n",
            "--- Resultados \n",
            "Acurácia: 0.7578\n",
            "Precisão: 0.8227\n",
            "Recall: 0.6304\n",
            "\n",
            "Matriz de Confusão:\n",
            " [[175  25]\n",
            " [ 68 116]]\n",
            "\n",
            "Testando: epochs=11\n",
            "\n",
            "--- Resultados \n",
            "Acurácia: 0.8333\n",
            "Precisão: 0.8614\n",
            "Recall: 0.7772\n",
            "\n",
            "Matriz de Confusão:\n",
            " [[177  23]\n",
            " [ 41 143]]\n",
            "\n",
            "Testando: epochs=12\n",
            "\n",
            "--- Resultados \n",
            "Acurácia: 0.8255\n",
            "Precisão: 0.9270\n",
            "Recall: 0.6902\n",
            "\n",
            "Matriz de Confusão:\n",
            " [[190  10]\n",
            " [ 57 127]]\n",
            "\n",
            "Testando: epochs=13\n",
            "\n",
            "--- Resultados \n",
            "Acurácia: 0.8438\n",
            "Precisão: 0.9429\n",
            "Recall: 0.7174\n",
            "\n",
            "Matriz de Confusão:\n",
            " [[192   8]\n",
            " [ 52 132]]\n",
            "\n",
            "Testando: epochs=14\n",
            "\n",
            "--- Resultados \n",
            "Acurácia: 0.8307\n",
            "Precisão: 0.9760\n",
            "Recall: 0.6630\n",
            "\n",
            "Matriz de Confusão:\n",
            " [[197   3]\n",
            " [ 62 122]]\n",
            "\n",
            "-------------------------------------\n",
            "\n",
            " Modelo 4:\n",
            "\n",
            " lr=0.001, dropout=0.2\n",
            "\n",
            "Testando: epochs=10\n",
            "\n",
            "--- Resultados \n",
            "Acurácia: 0.8333\n",
            "Precisão: 0.8846\n",
            "Recall: 0.7500\n",
            "\n",
            "Matriz de Confusão:\n",
            " [[182  18]\n",
            " [ 46 138]]\n",
            "\n",
            "Testando: epochs=11\n",
            "\n",
            "--- Resultados \n",
            "Acurácia: 0.8047\n",
            "Precisão: 0.8658\n",
            "Recall: 0.7011\n",
            "\n",
            "Matriz de Confusão:\n",
            " [[180  20]\n",
            " [ 55 129]]\n",
            "\n",
            "Testando: epochs=12\n",
            "\n",
            "--- Resultados \n",
            "Acurácia: 0.8438\n",
            "Precisão: 0.8333\n",
            "Recall: 0.8424\n",
            "\n",
            "Matriz de Confusão:\n",
            " [[169  31]\n",
            " [ 29 155]]\n",
            "\n",
            "Testando: epochs=13\n",
            "\n",
            "--- Resultados \n",
            "Acurácia: 0.8464\n",
            "Precisão: 0.8492\n",
            "Recall: 0.8261\n",
            "\n",
            "Matriz de Confusão:\n",
            " [[173  27]\n",
            " [ 32 152]]\n",
            "\n",
            "Testando: epochs=14\n",
            "\n",
            "--- Resultados \n",
            "Acurácia: 0.8255\n",
            "Precisão: 0.8503\n",
            "Recall: 0.7717\n",
            "\n",
            "Matriz de Confusão:\n",
            " [[175  25]\n",
            " [ 42 142]]\n"
          ]
        }
      ],
      "source": [
        "for params in combinacoes_selecionadas:\n",
        "    modelo = create_model(params['lr'], params['dr'])\n",
        "\n",
        "    # Avalie o modelo\n",
        "    avalia_modelo(modelo, test_ds, params['label'], params['lr'], params['dr'])"
      ]
    },
    {
      "cell_type": "markdown",
      "metadata": {
        "id": "JMG5B139oYPa"
      },
      "source": [
        "# Versão final"
      ]
    },
    {
      "cell_type": "markdown",
      "metadata": {
        "id": "vnNVdasF6qEZ"
      },
      "source": [
        "## Configurando o modelo final"
      ]
    },
    {
      "cell_type": "markdown",
      "metadata": {
        "id": "JV6TDBQT6to-"
      },
      "source": [
        "### Modelo"
      ]
    },
    {
      "cell_type": "code",
      "execution_count": 86,
      "metadata": {
        "id": "45RDl-xvnFh9"
      },
      "outputs": [],
      "source": [
        "# Valores finais dos hiperparâmetros\n",
        "dropout_rate = 0.4\n",
        "learning_rate = 1e-3\n",
        "epochs = 13\n",
        "\n",
        "#batch_size foi redefinido no inicio do notebook pois é utilizado para separar os dados em treino e validação"
      ]
    },
    {
      "cell_type": "code",
      "execution_count": 87,
      "metadata": {
        "id": "BBSa4xBy6to_"
      },
      "outputs": [],
      "source": [
        "model = keras.Sequential([\n",
        "    layers.Input(shape=(128, 128, 1)),\n",
        "\n",
        "    layers.Conv2D(32, 3, activation='relu'),\n",
        "    layers.MaxPooling2D(),\n",
        "    layers.Conv2D(64, 3, activation='relu'),\n",
        "    layers.MaxPooling2D(),\n",
        "    layers.Conv2D(128, 3, activation='relu'),\n",
        "    layers.MaxPooling2D(),\n",
        "\n",
        "    layers.Flatten(),\n",
        "    layers.Dense(128, activation='relu'),\n",
        "\n",
        "    # camada dropout\n",
        "    layers.Dropout(dropout_rate),\n",
        "\n",
        "    layers.Dense(num_classes)\n",
        "])"
      ]
    },
    {
      "cell_type": "code",
      "execution_count": 88,
      "metadata": {
        "colab": {
          "base_uri": "https://localhost:8080/",
          "height": 0
        },
        "id": "WLfYtZA-6tpA",
        "outputId": "90098847-b94e-4516-c752-2d24d59b1133"
      },
      "outputs": [
        {
          "output_type": "display_data",
          "data": {
            "text/plain": [
              "\u001b[1mModel: \"sequential_6\"\u001b[0m\n"
            ],
            "text/html": [
              "<pre style=\"white-space:pre;overflow-x:auto;line-height:normal;font-family:Menlo,'DejaVu Sans Mono',consolas,'Courier New',monospace\"><span style=\"font-weight: bold\">Model: \"sequential_6\"</span>\n",
              "</pre>\n"
            ]
          },
          "metadata": {}
        },
        {
          "output_type": "display_data",
          "data": {
            "text/plain": [
              "┏━━━━━━━━━━━━━━━━━━━━━━━━━━━━━━━━━┳━━━━━━━━━━━━━━━━━━━━━━━━┳━━━━━━━━━━━━━━━┓\n",
              "┃\u001b[1m \u001b[0m\u001b[1mLayer (type)                   \u001b[0m\u001b[1m \u001b[0m┃\u001b[1m \u001b[0m\u001b[1mOutput Shape          \u001b[0m\u001b[1m \u001b[0m┃\u001b[1m \u001b[0m\u001b[1m      Param #\u001b[0m\u001b[1m \u001b[0m┃\n",
              "┡━━━━━━━━━━━━━━━━━━━━━━━━━━━━━━━━━╇━━━━━━━━━━━━━━━━━━━━━━━━╇━━━━━━━━━━━━━━━┩\n",
              "│ conv2d_6 (\u001b[38;5;33mConv2D\u001b[0m)               │ (\u001b[38;5;45mNone\u001b[0m, \u001b[38;5;34m126\u001b[0m, \u001b[38;5;34m126\u001b[0m, \u001b[38;5;34m32\u001b[0m)   │           \u001b[38;5;34m320\u001b[0m │\n",
              "├─────────────────────────────────┼────────────────────────┼───────────────┤\n",
              "│ max_pooling2d_6 (\u001b[38;5;33mMaxPooling2D\u001b[0m)  │ (\u001b[38;5;45mNone\u001b[0m, \u001b[38;5;34m63\u001b[0m, \u001b[38;5;34m63\u001b[0m, \u001b[38;5;34m32\u001b[0m)     │             \u001b[38;5;34m0\u001b[0m │\n",
              "├─────────────────────────────────┼────────────────────────┼───────────────┤\n",
              "│ conv2d_7 (\u001b[38;5;33mConv2D\u001b[0m)               │ (\u001b[38;5;45mNone\u001b[0m, \u001b[38;5;34m61\u001b[0m, \u001b[38;5;34m61\u001b[0m, \u001b[38;5;34m64\u001b[0m)     │        \u001b[38;5;34m18,496\u001b[0m │\n",
              "├─────────────────────────────────┼────────────────────────┼───────────────┤\n",
              "│ max_pooling2d_7 (\u001b[38;5;33mMaxPooling2D\u001b[0m)  │ (\u001b[38;5;45mNone\u001b[0m, \u001b[38;5;34m30\u001b[0m, \u001b[38;5;34m30\u001b[0m, \u001b[38;5;34m64\u001b[0m)     │             \u001b[38;5;34m0\u001b[0m │\n",
              "├─────────────────────────────────┼────────────────────────┼───────────────┤\n",
              "│ conv2d_8 (\u001b[38;5;33mConv2D\u001b[0m)               │ (\u001b[38;5;45mNone\u001b[0m, \u001b[38;5;34m28\u001b[0m, \u001b[38;5;34m28\u001b[0m, \u001b[38;5;34m128\u001b[0m)    │        \u001b[38;5;34m73,856\u001b[0m │\n",
              "├─────────────────────────────────┼────────────────────────┼───────────────┤\n",
              "│ max_pooling2d_8 (\u001b[38;5;33mMaxPooling2D\u001b[0m)  │ (\u001b[38;5;45mNone\u001b[0m, \u001b[38;5;34m14\u001b[0m, \u001b[38;5;34m14\u001b[0m, \u001b[38;5;34m128\u001b[0m)    │             \u001b[38;5;34m0\u001b[0m │\n",
              "├─────────────────────────────────┼────────────────────────┼───────────────┤\n",
              "│ flatten_2 (\u001b[38;5;33mFlatten\u001b[0m)             │ (\u001b[38;5;45mNone\u001b[0m, \u001b[38;5;34m25088\u001b[0m)          │             \u001b[38;5;34m0\u001b[0m │\n",
              "├─────────────────────────────────┼────────────────────────┼───────────────┤\n",
              "│ dense_4 (\u001b[38;5;33mDense\u001b[0m)                 │ (\u001b[38;5;45mNone\u001b[0m, \u001b[38;5;34m128\u001b[0m)            │     \u001b[38;5;34m3,211,392\u001b[0m │\n",
              "├─────────────────────────────────┼────────────────────────┼───────────────┤\n",
              "│ dropout_2 (\u001b[38;5;33mDropout\u001b[0m)             │ (\u001b[38;5;45mNone\u001b[0m, \u001b[38;5;34m128\u001b[0m)            │             \u001b[38;5;34m0\u001b[0m │\n",
              "├─────────────────────────────────┼────────────────────────┼───────────────┤\n",
              "│ dense_5 (\u001b[38;5;33mDense\u001b[0m)                 │ (\u001b[38;5;45mNone\u001b[0m, \u001b[38;5;34m2\u001b[0m)              │           \u001b[38;5;34m258\u001b[0m │\n",
              "└─────────────────────────────────┴────────────────────────┴───────────────┘\n"
            ],
            "text/html": [
              "<pre style=\"white-space:pre;overflow-x:auto;line-height:normal;font-family:Menlo,'DejaVu Sans Mono',consolas,'Courier New',monospace\">┏━━━━━━━━━━━━━━━━━━━━━━━━━━━━━━━━━┳━━━━━━━━━━━━━━━━━━━━━━━━┳━━━━━━━━━━━━━━━┓\n",
              "┃<span style=\"font-weight: bold\"> Layer (type)                    </span>┃<span style=\"font-weight: bold\"> Output Shape           </span>┃<span style=\"font-weight: bold\">       Param # </span>┃\n",
              "┡━━━━━━━━━━━━━━━━━━━━━━━━━━━━━━━━━╇━━━━━━━━━━━━━━━━━━━━━━━━╇━━━━━━━━━━━━━━━┩\n",
              "│ conv2d_6 (<span style=\"color: #0087ff; text-decoration-color: #0087ff\">Conv2D</span>)               │ (<span style=\"color: #00d7ff; text-decoration-color: #00d7ff\">None</span>, <span style=\"color: #00af00; text-decoration-color: #00af00\">126</span>, <span style=\"color: #00af00; text-decoration-color: #00af00\">126</span>, <span style=\"color: #00af00; text-decoration-color: #00af00\">32</span>)   │           <span style=\"color: #00af00; text-decoration-color: #00af00\">320</span> │\n",
              "├─────────────────────────────────┼────────────────────────┼───────────────┤\n",
              "│ max_pooling2d_6 (<span style=\"color: #0087ff; text-decoration-color: #0087ff\">MaxPooling2D</span>)  │ (<span style=\"color: #00d7ff; text-decoration-color: #00d7ff\">None</span>, <span style=\"color: #00af00; text-decoration-color: #00af00\">63</span>, <span style=\"color: #00af00; text-decoration-color: #00af00\">63</span>, <span style=\"color: #00af00; text-decoration-color: #00af00\">32</span>)     │             <span style=\"color: #00af00; text-decoration-color: #00af00\">0</span> │\n",
              "├─────────────────────────────────┼────────────────────────┼───────────────┤\n",
              "│ conv2d_7 (<span style=\"color: #0087ff; text-decoration-color: #0087ff\">Conv2D</span>)               │ (<span style=\"color: #00d7ff; text-decoration-color: #00d7ff\">None</span>, <span style=\"color: #00af00; text-decoration-color: #00af00\">61</span>, <span style=\"color: #00af00; text-decoration-color: #00af00\">61</span>, <span style=\"color: #00af00; text-decoration-color: #00af00\">64</span>)     │        <span style=\"color: #00af00; text-decoration-color: #00af00\">18,496</span> │\n",
              "├─────────────────────────────────┼────────────────────────┼───────────────┤\n",
              "│ max_pooling2d_7 (<span style=\"color: #0087ff; text-decoration-color: #0087ff\">MaxPooling2D</span>)  │ (<span style=\"color: #00d7ff; text-decoration-color: #00d7ff\">None</span>, <span style=\"color: #00af00; text-decoration-color: #00af00\">30</span>, <span style=\"color: #00af00; text-decoration-color: #00af00\">30</span>, <span style=\"color: #00af00; text-decoration-color: #00af00\">64</span>)     │             <span style=\"color: #00af00; text-decoration-color: #00af00\">0</span> │\n",
              "├─────────────────────────────────┼────────────────────────┼───────────────┤\n",
              "│ conv2d_8 (<span style=\"color: #0087ff; text-decoration-color: #0087ff\">Conv2D</span>)               │ (<span style=\"color: #00d7ff; text-decoration-color: #00d7ff\">None</span>, <span style=\"color: #00af00; text-decoration-color: #00af00\">28</span>, <span style=\"color: #00af00; text-decoration-color: #00af00\">28</span>, <span style=\"color: #00af00; text-decoration-color: #00af00\">128</span>)    │        <span style=\"color: #00af00; text-decoration-color: #00af00\">73,856</span> │\n",
              "├─────────────────────────────────┼────────────────────────┼───────────────┤\n",
              "│ max_pooling2d_8 (<span style=\"color: #0087ff; text-decoration-color: #0087ff\">MaxPooling2D</span>)  │ (<span style=\"color: #00d7ff; text-decoration-color: #00d7ff\">None</span>, <span style=\"color: #00af00; text-decoration-color: #00af00\">14</span>, <span style=\"color: #00af00; text-decoration-color: #00af00\">14</span>, <span style=\"color: #00af00; text-decoration-color: #00af00\">128</span>)    │             <span style=\"color: #00af00; text-decoration-color: #00af00\">0</span> │\n",
              "├─────────────────────────────────┼────────────────────────┼───────────────┤\n",
              "│ flatten_2 (<span style=\"color: #0087ff; text-decoration-color: #0087ff\">Flatten</span>)             │ (<span style=\"color: #00d7ff; text-decoration-color: #00d7ff\">None</span>, <span style=\"color: #00af00; text-decoration-color: #00af00\">25088</span>)          │             <span style=\"color: #00af00; text-decoration-color: #00af00\">0</span> │\n",
              "├─────────────────────────────────┼────────────────────────┼───────────────┤\n",
              "│ dense_4 (<span style=\"color: #0087ff; text-decoration-color: #0087ff\">Dense</span>)                 │ (<span style=\"color: #00d7ff; text-decoration-color: #00d7ff\">None</span>, <span style=\"color: #00af00; text-decoration-color: #00af00\">128</span>)            │     <span style=\"color: #00af00; text-decoration-color: #00af00\">3,211,392</span> │\n",
              "├─────────────────────────────────┼────────────────────────┼───────────────┤\n",
              "│ dropout_2 (<span style=\"color: #0087ff; text-decoration-color: #0087ff\">Dropout</span>)             │ (<span style=\"color: #00d7ff; text-decoration-color: #00d7ff\">None</span>, <span style=\"color: #00af00; text-decoration-color: #00af00\">128</span>)            │             <span style=\"color: #00af00; text-decoration-color: #00af00\">0</span> │\n",
              "├─────────────────────────────────┼────────────────────────┼───────────────┤\n",
              "│ dense_5 (<span style=\"color: #0087ff; text-decoration-color: #0087ff\">Dense</span>)                 │ (<span style=\"color: #00d7ff; text-decoration-color: #00d7ff\">None</span>, <span style=\"color: #00af00; text-decoration-color: #00af00\">2</span>)              │           <span style=\"color: #00af00; text-decoration-color: #00af00\">258</span> │\n",
              "└─────────────────────────────────┴────────────────────────┴───────────────┘\n",
              "</pre>\n"
            ]
          },
          "metadata": {}
        },
        {
          "output_type": "display_data",
          "data": {
            "text/plain": [
              "\u001b[1m Total params: \u001b[0m\u001b[38;5;34m3,304,322\u001b[0m (12.60 MB)\n"
            ],
            "text/html": [
              "<pre style=\"white-space:pre;overflow-x:auto;line-height:normal;font-family:Menlo,'DejaVu Sans Mono',consolas,'Courier New',monospace\"><span style=\"font-weight: bold\"> Total params: </span><span style=\"color: #00af00; text-decoration-color: #00af00\">3,304,322</span> (12.60 MB)\n",
              "</pre>\n"
            ]
          },
          "metadata": {}
        },
        {
          "output_type": "display_data",
          "data": {
            "text/plain": [
              "\u001b[1m Trainable params: \u001b[0m\u001b[38;5;34m3,304,322\u001b[0m (12.60 MB)\n"
            ],
            "text/html": [
              "<pre style=\"white-space:pre;overflow-x:auto;line-height:normal;font-family:Menlo,'DejaVu Sans Mono',consolas,'Courier New',monospace\"><span style=\"font-weight: bold\"> Trainable params: </span><span style=\"color: #00af00; text-decoration-color: #00af00\">3,304,322</span> (12.60 MB)\n",
              "</pre>\n"
            ]
          },
          "metadata": {}
        },
        {
          "output_type": "display_data",
          "data": {
            "text/plain": [
              "\u001b[1m Non-trainable params: \u001b[0m\u001b[38;5;34m0\u001b[0m (0.00 B)\n"
            ],
            "text/html": [
              "<pre style=\"white-space:pre;overflow-x:auto;line-height:normal;font-family:Menlo,'DejaVu Sans Mono',consolas,'Courier New',monospace\"><span style=\"font-weight: bold\"> Non-trainable params: </span><span style=\"color: #00af00; text-decoration-color: #00af00\">0</span> (0.00 B)\n",
              "</pre>\n"
            ]
          },
          "metadata": {}
        }
      ],
      "source": [
        "model.summary()"
      ]
    },
    {
      "cell_type": "code",
      "execution_count": 89,
      "metadata": {
        "id": "xxKRBtRd6tpC"
      },
      "outputs": [],
      "source": [
        "optimizer = tf.keras.optimizers.Adam(learning_rate=learning_rate)\n",
        "\n",
        "model.compile(\n",
        "    optimizer=optimizer,\n",
        "    loss=tf.keras.losses.SparseCategoricalCrossentropy(from_logits=True),\n",
        "    metrics=['accuracy']\n",
        ")"
      ]
    },
    {
      "cell_type": "markdown",
      "metadata": {
        "id": "C7LBmeNP6tpA"
      },
      "source": [
        "### Treinamento"
      ]
    },
    {
      "cell_type": "code",
      "execution_count": 90,
      "metadata": {
        "colab": {
          "base_uri": "https://localhost:8080/"
        },
        "id": "cnltverP6tpD",
        "outputId": "17820e39-688c-4205-cf98-a1fc58b51554"
      },
      "outputs": [
        {
          "output_type": "stream",
          "name": "stdout",
          "text": [
            "Epoch 1/13\n",
            "\u001b[1m96/96\u001b[0m \u001b[32m━━━━━━━━━━━━━━━━━━━━\u001b[0m\u001b[37m\u001b[0m \u001b[1m8s\u001b[0m 47ms/step - accuracy: 0.5761 - loss: 0.6842 - val_accuracy: 0.6614 - val_loss: 0.6020\n",
            "Epoch 2/13\n",
            "\u001b[1m96/96\u001b[0m \u001b[32m━━━━━━━━━━━━━━━━━━━━\u001b[0m\u001b[37m\u001b[0m \u001b[1m2s\u001b[0m 19ms/step - accuracy: 0.6485 - loss: 0.6200 - val_accuracy: 0.6772 - val_loss: 0.5882\n",
            "Epoch 3/13\n",
            "\u001b[1m96/96\u001b[0m \u001b[32m━━━━━━━━━━━━━━━━━━━━\u001b[0m\u001b[37m\u001b[0m \u001b[1m2s\u001b[0m 19ms/step - accuracy: 0.6566 - loss: 0.5939 - val_accuracy: 0.7009 - val_loss: 0.5626\n",
            "Epoch 4/13\n",
            "\u001b[1m96/96\u001b[0m \u001b[32m━━━━━━━━━━━━━━━━━━━━\u001b[0m\u001b[37m\u001b[0m \u001b[1m2s\u001b[0m 20ms/step - accuracy: 0.6658 - loss: 0.5877 - val_accuracy: 0.7120 - val_loss: 0.5561\n",
            "Epoch 5/13\n",
            "\u001b[1m96/96\u001b[0m \u001b[32m━━━━━━━━━━━━━━━━━━━━\u001b[0m\u001b[37m\u001b[0m \u001b[1m2s\u001b[0m 19ms/step - accuracy: 0.6873 - loss: 0.5621 - val_accuracy: 0.7453 - val_loss: 0.5280\n",
            "Epoch 6/13\n",
            "\u001b[1m96/96\u001b[0m \u001b[32m━━━━━━━━━━━━━━━━━━━━\u001b[0m\u001b[37m\u001b[0m \u001b[1m2s\u001b[0m 19ms/step - accuracy: 0.7395 - loss: 0.5205 - val_accuracy: 0.7579 - val_loss: 0.4926\n",
            "Epoch 7/13\n",
            "\u001b[1m96/96\u001b[0m \u001b[32m━━━━━━━━━━━━━━━━━━━━\u001b[0m\u001b[37m\u001b[0m \u001b[1m2s\u001b[0m 19ms/step - accuracy: 0.7455 - loss: 0.5012 - val_accuracy: 0.7468 - val_loss: 0.4944\n",
            "Epoch 8/13\n",
            "\u001b[1m96/96\u001b[0m \u001b[32m━━━━━━━━━━━━━━━━━━━━\u001b[0m\u001b[37m\u001b[0m \u001b[1m2s\u001b[0m 24ms/step - accuracy: 0.7699 - loss: 0.4771 - val_accuracy: 0.7801 - val_loss: 0.4722\n",
            "Epoch 9/13\n",
            "\u001b[1m96/96\u001b[0m \u001b[32m━━━━━━━━━━━━━━━━━━━━\u001b[0m\u001b[37m\u001b[0m \u001b[1m2s\u001b[0m 25ms/step - accuracy: 0.7814 - loss: 0.4413 - val_accuracy: 0.7848 - val_loss: 0.4544\n",
            "Epoch 10/13\n",
            "\u001b[1m96/96\u001b[0m \u001b[32m━━━━━━━━━━━━━━━━━━━━\u001b[0m\u001b[37m\u001b[0m \u001b[1m3s\u001b[0m 27ms/step - accuracy: 0.8195 - loss: 0.4024 - val_accuracy: 0.7690 - val_loss: 0.4700\n",
            "Epoch 11/13\n",
            "\u001b[1m96/96\u001b[0m \u001b[32m━━━━━━━━━━━━━━━━━━━━\u001b[0m\u001b[37m\u001b[0m \u001b[1m5s\u001b[0m 22ms/step - accuracy: 0.8261 - loss: 0.3835 - val_accuracy: 0.7722 - val_loss: 0.4624\n",
            "Epoch 12/13\n",
            "\u001b[1m96/96\u001b[0m \u001b[32m━━━━━━━━━━━━━━━━━━━━\u001b[0m\u001b[37m\u001b[0m \u001b[1m3s\u001b[0m 22ms/step - accuracy: 0.8291 - loss: 0.3670 - val_accuracy: 0.7595 - val_loss: 0.4713\n",
            "Epoch 13/13\n",
            "\u001b[1m96/96\u001b[0m \u001b[32m━━━━━━━━━━━━━━━━━━━━\u001b[0m\u001b[37m\u001b[0m \u001b[1m3s\u001b[0m 24ms/step - accuracy: 0.8405 - loss: 0.3571 - val_accuracy: 0.8070 - val_loss: 0.4030\n",
            "Treinamento concluído!\n"
          ]
        }
      ],
      "source": [
        "history = model.fit(\n",
        "    train_ds,\n",
        "    validation_data=val_ds,\n",
        "    epochs=epochs\n",
        ")\n",
        "\n",
        "print(\"Treinamento concluído!\")"
      ]
    },
    {
      "cell_type": "code",
      "execution_count": 91,
      "metadata": {
        "colab": {
          "base_uri": "https://localhost:8080/",
          "height": 0
        },
        "id": "xAnLbtNz6tpE",
        "outputId": "de7a157b-8c45-4586-949a-baa198190b49"
      },
      "outputs": [
        {
          "output_type": "display_data",
          "data": {
            "text/plain": [
              "<Figure size 1200x600 with 2 Axes>"
            ],
            "image/png": "[encoded data removed]"
          },
          "metadata": {}
        },
        {
          "output_type": "stream",
          "name": "stdout",
          "text": [
            "\n",
            "--- Resultados Finais ---\n",
            "Acurácia final de Treino: 0.8515\n",
            "Acurácia final de Validação: 0.8070\n",
            "Perda final de Treino: 0.3362\n",
            "Perda final de Validação: 0.4030\n"
          ]
        }
      ],
      "source": [
        "acc = history.history['accuracy']\n",
        "val_acc = history.history['val_accuracy']  # Acurácia do conjunto de validação\n",
        "loss = history.history['loss']\n",
        "val_loss = history.history['val_loss']    # Perda do conjunto de validação\n",
        "\n",
        "epochs_range = range(len(acc))\n",
        "\n",
        "plt.figure(figsize=(12, 6))\n",
        "\n",
        "# --- Gráfico de Acurácia ---\n",
        "plt.subplot(1, 2, 1)\n",
        "plt.plot(epochs_range, acc, label='Acurácia de Treino')\n",
        "plt.plot(epochs_range, val_acc, label='Acurácia de Validação')\n",
        "plt.legend(loc='lower right')\n",
        "plt.title('Acurácia de Treino e Validação')\n",
        "plt.xlabel('Épocas')\n",
        "plt.ylabel('Acurácia')\n",
        "plt.grid(True)\n",
        "\n",
        "# --- Gráfico de Perda (Loss) ---\n",
        "plt.subplot(1, 2, 2)\n",
        "plt.plot(epochs_range, loss, label='Perda de Treino')\n",
        "plt.plot(epochs_range, val_loss, label='Perda de Validação')\n",
        "plt.legend(loc='upper right')\n",
        "plt.title('Perda de Treino e Validação')\n",
        "plt.xlabel('Épocas')\n",
        "plt.ylabel('Perda')\n",
        "plt.grid(True)\n",
        "\n",
        "plt.show()\n",
        "\n",
        "# Exibe os valores finais de acurácia e perda\n",
        "final_acc = acc[-1]\n",
        "final_val_acc = val_acc[-1]\n",
        "final_loss = loss[-1]\n",
        "final_val_loss = val_loss[-1]\n",
        "\n",
        "print(\"\\n--- Resultados Finais ---\")\n",
        "print(f\"Acurácia final de Treino: {final_acc:.4f}\")\n",
        "print(f\"Acurácia final de Validação: {final_val_acc:.4f}\")\n",
        "print(f\"Perda final de Treino: {final_loss:.4f}\")\n",
        "print(f\"Perda final de Validação: {final_val_loss:.4f}\")"
      ]
    },
    {
      "cell_type": "markdown",
      "metadata": {
        "id": "i350WED-6tpH"
      },
      "source": [
        "### 2ª Avaliação das Métricas"
      ]
    },
    {
      "cell_type": "code",
      "execution_count": 92,
      "metadata": {
        "id": "fH4oe8ux6tpI"
      },
      "outputs": [],
      "source": [
        "from sklearn.metrics import confusion_matrix\n",
        "import seaborn as sns\n",
        "import matplotlib.pyplot as plt"
      ]
    },
    {
      "cell_type": "code",
      "execution_count": 93,
      "metadata": {
        "id": "bhaAYVXg6tpI"
      },
      "outputs": [],
      "source": [
        "y_true = []\n",
        "y_pred_logits = []\n",
        "\n",
        "for images, labels in test_ds:\n",
        "    # rótulos reais\n",
        "    y_true.extend(labels.numpy())\n",
        "    # previsões\n",
        "    predictions = model.predict(images, verbose=0)\n",
        "    y_pred_logits.extend(predictions)\n",
        "\n",
        "y_pred = np.argmax(y_pred_logits, axis=1)\n",
        "\n",
        "# matriz confusão\n",
        "cm = confusion_matrix(y_true, y_pred)\n",
        "tn, fp, fn, tp = cm.ravel()\n",
        "\n",
        "# acurácia, precisão e recall\n",
        "accuracy = (tp + tn) / (tp + tn + fp + fn)\n",
        "precision = tp / (tp + fp)\n",
        "recall = tp / (tp + fn)"
      ]
    },
    {
      "cell_type": "code",
      "execution_count": 94,
      "metadata": {
        "colab": {
          "base_uri": "https://localhost:8080/",
          "height": 755
        },
        "id": "WY5qKojJ6tpJ",
        "outputId": "cdb6cd34-9d16-475a-a80c-17111729848a"
      },
      "outputs": [
        {
          "output_type": "display_data",
          "data": {
            "text/plain": [
              "<Figure size 800x600 with 2 Axes>"
            ],
            "image/png": "[encoded data removed]"
          },
          "metadata": {}
        },
        {
          "output_type": "stream",
          "name": "stdout",
          "text": [
            "\n",
            " Matriz Confusão\n",
            "Verdadeiros Positivos (VP - Previsão 'full' correta): 134\n",
            "Verdadeiros Negativos (VN - Previsão 'empty' correta): 175\n",
            "Falsos Positivos (FP - Previsão 'full' incorreta): 25\n",
            "Falsos Negativos (FN - Previsão 'empty' incorreta): 50\n",
            "\n",
            " Métricas \n",
            "Acurácia: 0.8047\n",
            "Precisão (para a classe 'full'): 0.8428\n",
            "Recall (para a classe 'full'): 0.7283\n"
          ]
        }
      ],
      "source": [
        "class_names = ['empty', 'full']\n",
        "\n",
        "plt.figure(figsize=(8, 6))\n",
        "sns.heatmap(cm,\n",
        "            annot=True,          # Mostra os valores na matriz\n",
        "            fmt='d',             # Formato dos números (inteiro)\n",
        "            cmap='Blues',        # Mapa de cores\n",
        "            xticklabels=class_names,  # Rótulos do eixo X (Previsões)\n",
        "            yticklabels=class_names)  # Rótulos do eixo Y (Valores Reais)\n",
        "\n",
        "plt.xlabel('Previsões do Modelo')\n",
        "plt.ylabel('Valores Reais')\n",
        "plt.title('Matriz Confusão')\n",
        "plt.show()\n",
        "\n",
        "print(\"\\n Matriz Confusão\")\n",
        "print(f\"Verdadeiros Positivos (VP - Previsão 'full' correta): {tp}\")\n",
        "print(f\"Verdadeiros Negativos (VN - Previsão 'empty' correta): {tn}\")\n",
        "print(f\"Falsos Positivos (FP - Previsão 'full' incorreta): {fp}\")\n",
        "print(f\"Falsos Negativos (FN - Previsão 'empty' incorreta): {fn}\")\n",
        "\n",
        "print(\"\\n Métricas \")\n",
        "print(f\"Acurácia: {accuracy:.4f}\")\n",
        "print(f\"Precisão (para a classe 'full'): {precision:.4f}\")\n",
        "print(f\"Recall (para a classe 'full'): {recall:.4f}\")"
      ]
    },
    {
      "cell_type": "markdown",
      "metadata": {
        "id": "Log9Q0-r6tpF"
      },
      "source": [
        "### Predição"
      ]
    },
    {
      "cell_type": "code",
      "execution_count": 95,
      "metadata": {
        "id": "yiG1Bbpv6tpG"
      },
      "outputs": [],
      "source": [
        "\n",
        "def prever_nova_imagem(caminho_imagem, model):\n",
        "\n",
        "    img = cv2.imread(caminho_imagem, cv2.IMREAD_GRAYSCALE)\n",
        "\n",
        "    if img is None:\n",
        "        print(f\"Erro: Não foi possível carregar a imagem em {caminho_imagem}\")\n",
        "        return None, None\n",
        "\n",
        "    img_resized = cv2.resize(img, (128, 128), interpolation=cv2.INTER_AREA)\n",
        "\n",
        "    # normalização\n",
        "    img_normalized = img_resized.astype(\"float32\") / 255.0\n",
        "\n",
        "    # ajuste de dimensões\n",
        "    img_tensor = np.expand_dims(img_normalized, axis=-1)\n",
        "    img_tensor = np.expand_dims(img_tensor, axis=0)\n",
        "\n",
        "    # predição\n",
        "    predictions = model.predict(img_tensor)\n",
        "\n",
        "    # coletando logit com a maior probabilidade\n",
        "    predicted_class_index = np.argmax(predictions, axis=1)\n",
        "\n",
        "    probabilities = tf.nn.softmax(predictions).numpy()[0]\n",
        "\n",
        "    class_names = ['empty', 'full']\n",
        "    predicted_class = class_names[predicted_class_index[0]]\n",
        "\n",
        "    return predicted_class, probabilities\n"
      ]
    },
    {
      "cell_type": "code",
      "execution_count": 104,
      "metadata": {
        "colab": {
          "base_uri": "https://localhost:8080/"
        },
        "id": "Gj_zftQd6tpG",
        "outputId": "0cdf7374-8c32-4acd-d4a9-5f0f1c60c825"
      },
      "outputs": [
        {
          "output_type": "stream",
          "name": "stdout",
          "text": [
            "\u001b[1m1/1\u001b[0m \u001b[32m━━━━━━━━━━━━━━━━━━━━\u001b[0m\u001b[37m\u001b[0m \u001b[1m1s\u001b[0m 615ms/step\n",
            "\n",
            "--- Resultado da Predição ---\n",
            "A imagem é provavelmente: full\n",
            "Probabilidade de ser 'empty': 0.03\n",
            "Probabilidade de ser 'full': 0.97\n"
          ]
        }
      ],
      "source": [
        "caminho_da_nova_imagem = '/content/teste1.jpeg'\n",
        "\n",
        "classe_predita, probabilidades = prever_nova_imagem(caminho_da_nova_imagem, model)\n",
        "\n",
        "if classe_predita:\n",
        "    print(\"\\n--- Resultado da Predição ---\")\n",
        "    print(f\"A imagem é provavelmente: {classe_predita}\")\n",
        "    print(f\"Probabilidade de ser 'empty': {probabilidades[0]:.2f}\")\n",
        "    print(f\"Probabilidade de ser 'full': {probabilidades[1]:.2f}\")"
      ]
    },
    {
      "cell_type": "markdown",
      "metadata": {
        "id": "DMTxouNEOuXM"
      },
      "source": [
        "## Predição com o Gradio"
      ]
    },
    {
      "cell_type": "code",
      "execution_count": 97,
      "metadata": {
        "colab": {
          "base_uri": "https://localhost:8080/"
        },
        "id": "CtmS45pSOyU0",
        "outputId": "3c336d91-55a7-4b7b-ee0f-57cdbd288607"
      },
      "outputs": [
        {
          "output_type": "stream",
          "name": "stdout",
          "text": [
            "Requirement already satisfied: gradio in /usr/local/lib/python3.11/dist-packages (5.39.0)\n",
            "Requirement already satisfied: aiofiles<25.0,>=22.0 in /usr/local/lib/python3.11/dist-packages (from gradio) (24.1.0)\n",
            "Requirement already satisfied: anyio<5.0,>=3.0 in /usr/local/lib/python3.11/dist-packages (from gradio) (4.10.0)\n",
            "Requirement already satisfied: brotli>=1.1.0 in /usr/local/lib/python3.11/dist-packages (from gradio) (1.1.0)\n",
            "Requirement already satisfied: fastapi<1.0,>=0.115.2 in /usr/local/lib/python3.11/dist-packages (from gradio) (0.116.1)\n",
            "Requirement already satisfied: ffmpy in /usr/local/lib/python3.11/dist-packages (from gradio) (0.6.1)\n",
            "Requirement already satisfied: gradio-client==1.11.0 in /usr/local/lib/python3.11/dist-packages (from gradio) (1.11.0)\n",
            "Requirement already satisfied: groovy~=0.1 in /usr/local/lib/python3.11/dist-packages (from gradio) (0.1.2)\n",
            "Requirement already satisfied: httpx<1.0,>=0.24.1 in /usr/local/lib/python3.11/dist-packages (from gradio) (0.28.1)\n",
            "Requirement already satisfied: huggingface-hub<1.0,>=0.33.5 in /usr/local/lib/python3.11/dist-packages (from gradio) (0.34.3)\n",
            "Requirement already satisfied: jinja2<4.0 in /usr/local/lib/python3.11/dist-packages (from gradio) (3.1.6)\n",
            "Requirement already satisfied: markupsafe<4.0,>=2.0 in /usr/local/lib/python3.11/dist-packages (from gradio) (3.0.2)\n",
            "Requirement already satisfied: numpy<3.0,>=1.0 in /usr/local/lib/python3.11/dist-packages (from gradio) (2.0.2)\n",
            "Requirement already satisfied: orjson~=3.0 in /usr/local/lib/python3.11/dist-packages (from gradio) (3.11.1)\n",
            "Requirement already satisfied: packaging in /usr/local/lib/python3.11/dist-packages (from gradio) (25.0)\n",
            "Requirement already satisfied: pandas<3.0,>=1.0 in /usr/local/lib/python3.11/dist-packages (from gradio) (2.2.2)\n",
            "Requirement already satisfied: pillow<12.0,>=8.0 in /usr/local/lib/python3.11/dist-packages (from gradio) (11.3.0)\n",
            "Requirement already satisfied: pydantic<2.12,>=2.0 in /usr/local/lib/python3.11/dist-packages (from gradio) (2.11.7)\n",
            "Requirement already satisfied: pydub in /usr/local/lib/python3.11/dist-packages (from gradio) (0.25.1)\n",
            "Requirement already satisfied: python-multipart>=0.0.18 in /usr/local/lib/python3.11/dist-packages (from gradio) (0.0.20)\n",
            "Requirement already satisfied: pyyaml<7.0,>=5.0 in /usr/local/lib/python3.11/dist-packages (from gradio) (6.0.2)\n",
            "Requirement already satisfied: ruff>=0.9.3 in /usr/local/lib/python3.11/dist-packages (from gradio) (0.12.7)\n",
            "Requirement already satisfied: safehttpx<0.2.0,>=0.1.6 in /usr/local/lib/python3.11/dist-packages (from gradio) (0.1.6)\n",
            "Requirement already satisfied: semantic-version~=2.0 in /usr/local/lib/python3.11/dist-packages (from gradio) (2.10.0)\n",
            "Requirement already satisfied: starlette<1.0,>=0.40.0 in /usr/local/lib/python3.11/dist-packages (from gradio) (0.47.2)\n",
            "Requirement already satisfied: tomlkit<0.14.0,>=0.12.0 in /usr/local/lib/python3.11/dist-packages (from gradio) (0.13.3)\n",
            "Requirement already satisfied: typer<1.0,>=0.12 in /usr/local/lib/python3.11/dist-packages (from gradio) (0.16.0)\n",
            "Requirement already satisfied: typing-extensions~=4.0 in /usr/local/lib/python3.11/dist-packages (from gradio) (4.14.1)\n",
            "Requirement already satisfied: uvicorn>=0.14.0 in /usr/local/lib/python3.11/dist-packages (from gradio) (0.35.0)\n",
            "Requirement already satisfied: fsspec in /usr/local/lib/python3.11/dist-packages (from gradio-client==1.11.0->gradio) (2025.3.0)\n",
            "Requirement already satisfied: websockets<16.0,>=10.0 in /usr/local/lib/python3.11/dist-packages (from gradio-client==1.11.0->gradio) (15.0.1)\n",
            "Requirement already satisfied: idna>=2.8 in /usr/local/lib/python3.11/dist-packages (from anyio<5.0,>=3.0->gradio) (3.10)\n",
            "Requirement already satisfied: sniffio>=1.1 in /usr/local/lib/python3.11/dist-packages (from anyio<5.0,>=3.0->gradio) (1.3.1)\n",
            "Requirement already satisfied: certifi in /usr/local/lib/python3.11/dist-packages (from httpx<1.0,>=0.24.1->gradio) (2025.8.3)\n",
            "Requirement already satisfied: httpcore==1.* in /usr/local/lib/python3.11/dist-packages (from httpx<1.0,>=0.24.1->gradio) (1.0.9)\n",
            "Requirement already satisfied: h11>=0.16 in /usr/local/lib/python3.11/dist-packages (from httpcore==1.*->httpx<1.0,>=0.24.1->gradio) (0.16.0)\n",
            "Requirement already satisfied: filelock in /usr/local/lib/python3.11/dist-packages (from huggingface-hub<1.0,>=0.33.5->gradio) (3.18.0)\n",
            "Requirement already satisfied: requests in /usr/local/lib/python3.11/dist-packages (from huggingface-hub<1.0,>=0.33.5->gradio) (2.32.3)\n",
            "Requirement already satisfied: tqdm>=4.42.1 in /usr/local/lib/python3.11/dist-packages (from huggingface-hub<1.0,>=0.33.5->gradio) (4.67.1)\n",
            "Requirement already satisfied: hf-xet<2.0.0,>=1.1.3 in /usr/local/lib/python3.11/dist-packages (from huggingface-hub<1.0,>=0.33.5->gradio) (1.1.5)\n",
            "Requirement already satisfied: python-dateutil>=2.8.2 in /usr/local/lib/python3.11/dist-packages (from pandas<3.0,>=1.0->gradio) (2.9.0.post0)\n",
            "Requirement already satisfied: pytz>=2020.1 in /usr/local/lib/python3.11/dist-packages (from pandas<3.0,>=1.0->gradio) (2025.2)\n",
            "Requirement already satisfied: tzdata>=2022.7 in /usr/local/lib/python3.11/dist-packages (from pandas<3.0,>=1.0->gradio) (2025.2)\n",
            "Requirement already satisfied: annotated-types>=0.6.0 in /usr/local/lib/python3.11/dist-packages (from pydantic<2.12,>=2.0->gradio) (0.7.0)\n",
            "Requirement already satisfied: pydantic-core==2.33.2 in /usr/local/lib/python3.11/dist-packages (from pydantic<2.12,>=2.0->gradio) (2.33.2)\n",
            "Requirement already satisfied: typing-inspection>=0.4.0 in /usr/local/lib/python3.11/dist-packages (from pydantic<2.12,>=2.0->gradio) (0.4.1)\n",
            "Requirement already satisfied: click>=8.0.0 in /usr/local/lib/python3.11/dist-packages (from typer<1.0,>=0.12->gradio) (8.2.1)\n",
            "Requirement already satisfied: shellingham>=1.3.0 in /usr/local/lib/python3.11/dist-packages (from typer<1.0,>=0.12->gradio) (1.5.4)\n",
            "Requirement already satisfied: rich>=10.11.0 in /usr/local/lib/python3.11/dist-packages (from typer<1.0,>=0.12->gradio) (13.9.4)\n",
            "Requirement already satisfied: six>=1.5 in /usr/local/lib/python3.11/dist-packages (from python-dateutil>=2.8.2->pandas<3.0,>=1.0->gradio) (1.17.0)\n",
            "Requirement already satisfied: markdown-it-py>=2.2.0 in /usr/local/lib/python3.11/dist-packages (from rich>=10.11.0->typer<1.0,>=0.12->gradio) (3.0.0)\n",
            "Requirement already satisfied: pygments<3.0.0,>=2.13.0 in /usr/local/lib/python3.11/dist-packages (from rich>=10.11.0->typer<1.0,>=0.12->gradio) (2.19.2)\n",
            "Requirement already satisfied: charset-normalizer<4,>=2 in /usr/local/lib/python3.11/dist-packages (from requests->huggingface-hub<1.0,>=0.33.5->gradio) (3.4.2)\n",
            "Requirement already satisfied: urllib3<3,>=1.21.1 in /usr/local/lib/python3.11/dist-packages (from requests->huggingface-hub<1.0,>=0.33.5->gradio) (2.5.0)\n",
            "Requirement already satisfied: mdurl~=0.1 in /usr/local/lib/python3.11/dist-packages (from markdown-it-py>=2.2.0->rich>=10.11.0->typer<1.0,>=0.12->gradio) (0.1.2)\n"
          ]
        }
      ],
      "source": [
        "!pip install gradio"
      ]
    },
    {
      "cell_type": "code",
      "execution_count": 98,
      "metadata": {
        "id": "pQ4IbEJXPLba"
      },
      "outputs": [],
      "source": [
        "import gradio as gr\n",
        "from PIL import Image"
      ]
    },
    {
      "cell_type": "code",
      "execution_count": 99,
      "metadata": {
        "colab": {
          "base_uri": "https://localhost:8080/",
          "height": 0
        },
        "id": "1lf1fYNbPFDq",
        "outputId": "c663ef38-002d-4c5c-b048-3156cd7160a4"
      },
      "outputs": [
        {
          "output_type": "stream",
          "name": "stdout",
          "text": [
            "Colab notebook detected. To show errors in colab notebook, set debug=True in launch()\n",
            "* Running on public URL: https://caf13b15e6a7d2c6ef.gradio.live\n",
            "\n",
            "This share link expires in 1 week. For free permanent hosting and GPU upgrades, run `gradio deploy` from the terminal in the working directory to deploy to Hugging Face Spaces (https://huggingface.co/spaces)\n"
          ]
        },
        {
          "output_type": "display_data",
          "data": {
            "text/plain": [
              "<IPython.core.display.HTML object>"
            ],
            "text/html": [
              "<div><iframe src=\"https://caf13b15e6a7d2c6ef.gradio.live\" width=\"100%\" height=\"500\" allow=\"autoplay; camera; microphone; clipboard-read; clipboard-write;\" frameborder=\"0\" allowfullscreen></iframe></div>"
            ]
          },
          "metadata": {}
        },
        {
          "output_type": "execute_result",
          "data": {
            "text/plain": []
          },
          "metadata": {},
          "execution_count": 99
        }
      ],
      "source": [
        "class_names = ['empty', 'full']\n",
        "\n",
        "def classify_image(input_image):\n",
        "    img = np.array(input_image)\n",
        "\n",
        "    # redimensionar, converter para escala de cinza e normalizar\n",
        "    img_resized = tf.image.resize(img, (128, 128))\n",
        "    img_gray = tf.image.rgb_to_grayscale(img_resized)\n",
        "    img_normalized = img_gray / 255.0\n",
        "\n",
        "    # ajuste de formato\n",
        "    img_tensor = tf.expand_dims(img_normalized, axis=0)\n",
        "\n",
        "    predictions = model.predict(img_tensor, verbose=0)\n",
        "\n",
        "    # logits -> probabilidades\n",
        "    probabilities = tf.nn.softmax(predictions[0]).numpy()\n",
        "\n",
        "    # retorno das probabilidades\n",
        "    return {class_names[i]: float(probabilities[i]) for i in range(len(class_names))}\n",
        "\n",
        "demo = gr.Interface(\n",
        "    fn=classify_image,\n",
        "    inputs=gr.Image(type=\"pil\"),\n",
        "    outputs=gr.Label(),\n",
        "    title=\"Classificador de Embalagens Cheias e Vazias\",\n",
        "    description=\"Faça o upload da foto de uma embalagem para classificá-la como 'cheia' ou 'vazia'.\"\n",
        ")\n",
        "\n",
        "demo.launch(share=True)"
      ]
    },
    {
      "cell_type": "markdown",
      "metadata": {
        "id": "GQgAq-b3RQHq"
      },
      "source": [
        "## Salvado o modelo"
      ]
    },
    {
      "cell_type": "code",
      "execution_count": 100,
      "metadata": {
        "colab": {
          "base_uri": "https://localhost:8080/"
        },
        "id": "A965ikVtP6Mk",
        "outputId": "472f047d-6a33-445c-a2c7-f4f8b72fb00a"
      },
      "outputs": [
        {
          "output_type": "stream",
          "name": "stderr",
          "text": [
            "WARNING:absl:You are saving your model as an HDF5 file via `model.save()` or `keras.saving.save_model(model)`. This file format is considered legacy. We recommend using instead the native Keras format, e.g. `model.save('my_model.keras')` or `keras.saving.save_model(model, 'my_model.keras')`. \n"
          ]
        }
      ],
      "source": [
        "model.save('meu_modelo.h5')\n"
      ]
    },
    {
      "cell_type": "markdown",
      "metadata": {
        "id": "Bqm-J1s4Rgp-"
      },
      "source": [
        "carrega o modelo salvo\n"
      ]
    },
    {
      "cell_type": "code",
      "execution_count": 101,
      "metadata": {
        "id": "PxNWz25LRZtG"
      },
      "outputs": [],
      "source": [
        "#from tensorflow.keras.models import load_model\n",
        "\n",
        "#modelo_carregado = load_model('meu_modelo.h5')"
      ]
    },
    {
      "cell_type": "markdown",
      "source": [
        "## Outras métricas interessantes\n"
      ],
      "metadata": {
        "id": "JswIF1FbJj07"
      }
    },
    {
      "cell_type": "code",
      "source": [
        "from sklearn.metrics import roc_curve, auc\n",
        "\n",
        "# curva ROC e AUC\n",
        "y_pred_probs = tf.nn.softmax(y_pred_logits).numpy()[:, 1] # Pega as probabilidades da classe 1\n",
        "\n",
        "fpr, tpr, thresholds = roc_curve(y_true, y_pred_probs)\n",
        "roc_auc = auc(fpr, tpr)\n",
        "\n",
        "plt.figure()\n",
        "plt.plot(fpr, tpr, color='darkorange', lw=2, label=f'Curva ROC (AUC = {roc_auc:.2f})')\n",
        "plt.plot([0, 1], [0, 1], color='navy', lw=2, linestyle='--')\n",
        "plt.xlabel('Falso Positivo')\n",
        "plt.ylabel('Verdadeiro Positivo')\n",
        "plt.title('Curva ROC')\n",
        "plt.legend(loc=\"lower right\")\n",
        "plt.show()"
      ],
      "metadata": {
        "colab": {
          "base_uri": "https://localhost:8080/",
          "height": 472
        },
        "id": "gjNMVqw7Jd5l",
        "outputId": "936cf9ac-1dcc-4893-d006-5b3d557dd5aa"
      },
      "execution_count": 105,
      "outputs": [
        {
          "output_type": "display_data",
          "data": {
            "text/plain": [
              "<Figure size 640x480 with 1 Axes>"
            ],
            "image/png": "[encoded data removed]"
          },
          "metadata": {}
        }
      ]
    },
    {
      "cell_type": "code",
      "source": [
        "cm = confusion_matrix(y_true, y_pred, normalize='true')\n",
        "\n",
        "import seaborn as sns\n",
        "plt.figure(figsize=(8, 6))\n",
        "sns.heatmap(cm, annot=True, fmt='.2%', cmap='Blues')\n",
        "plt.xlabel('Previsões do Modelo')\n",
        "plt.ylabel('Valores Reais')\n",
        "plt.title('Matriz de Confusão Normalizada (%)')\n",
        "plt.show()"
      ],
      "metadata": {
        "colab": {
          "base_uri": "https://localhost:8080/",
          "height": 564
        },
        "id": "T8LV1NDHJg7p",
        "outputId": "1c80d50d-ab2f-4953-efa1-eaf564f2b992"
      },
      "execution_count": 103,
      "outputs": [
        {
          "output_type": "display_data",
          "data": {
            "text/plain": [
              "<Figure size 800x600 with 2 Axes>"
            ],
            "image/png": "[encoded data removed]"
          },
          "metadata": {}
        }
      ]
    }
  ],
  "metadata": {
    "accelerator": "GPU",
    "colab": {
      "collapsed_sections": [
        "z-nxdgKF7MiN",
        "O2UAf7uRoePP",
        "dpL8GjOLyyBD",
        "cB5HKU6My20R",
        "MY78ubOGzFhq",
        "pqe53Q-r6HCE",
        "1AjtSxNtY7PV",
        "7On1aXvAhv4b",
        "JV6TDBQT6to-",
        "C7LBmeNP6tpA",
        "i350WED-6tpH",
        "DMTxouNEOuXM"
      ],
      "gpuType": "T4",
      "provenance": []
    },
    "kernelspec": {
      "display_name": "Python 3",
      "name": "python3"
    },
    "language_info": {
      "name": "python"
    }
  },
  "nbformat": 4,
  "nbformat_minor": 0
}